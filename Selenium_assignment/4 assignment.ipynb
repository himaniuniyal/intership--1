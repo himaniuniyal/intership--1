{
 "cells": [
  {
   "cell_type": "markdown",
   "id": "142088d8",
   "metadata": {},
   "source": [
    "1. Scrape the details of most viewed videos on YouTube from Wikipedia.\n",
    "\n",
    "Url = https://en.wikipedia.org/wiki/List_of_most-viewed_YouTube_videos\n",
    "\n",
    "You need to find following details:\n",
    "\n",
    "A) Rank\n",
    "B) Name\n",
    "C) Artist\n",
    "D) Upload date\n",
    "E) Views\n"
   ]
  },
  {
   "cell_type": "code",
   "execution_count": 209,
   "id": "1efa4d08",
   "metadata": {},
   "outputs": [],
   "source": [
    "from selenium import webdriver\n",
    "from selenium.webdriver.common.keys import Keys\n",
    "from selenium.common.exceptions import NoSuchElementException\n",
    "import pandas as pd"
   ]
  },
  {
   "cell_type": "code",
   "execution_count": 210,
   "id": "0f7336d9",
   "metadata": {},
   "outputs": [],
   "source": [
    "driver = webdriver.Chrome(r\"C:/Users/admin/Downloads/chromedriver_win32/chromedriver.exe\")"
   ]
  },
  {
   "cell_type": "code",
   "execution_count": 211,
   "id": "3153ab57",
   "metadata": {},
   "outputs": [],
   "source": [
    "url= \"https://en.wikipedia.org/wiki/List_of_most-viewed_YouTube_videos\"\n",
    "driver.get(url)"
   ]
  },
  {
   "cell_type": "code",
   "execution_count": 212,
   "id": "61aae073",
   "metadata": {},
   "outputs": [],
   "source": [
    "rank=[]\n",
    "video=[]\n",
    "artist=[]\n",
    "views=[]\n",
    "uploaddate=[]"
   ]
  },
  {
   "cell_type": "code",
   "execution_count": 222,
   "id": "72798f38",
   "metadata": {},
   "outputs": [
    {
     "data": {
      "text/plain": [
       "['Baby Shark Dance',\n",
       " \"Pinkfong Baby Shark - Kids' Songs & Stories\",\n",
       " 'Despacito',\n",
       " 'Luis Fonsi',\n",
       " 'Johny Johny Yes Papa',\n",
       " 'Shape of You',\n",
       " 'Ed Sheeran',\n",
       " 'See You Again',\n",
       " 'Wiz Khalifa',\n",
       " 'Cocomelon – Nursery Rhymes',\n",
       " 'Uptown Funk',\n",
       " 'Mark Ronson',\n",
       " 'ChuChu TV',\n",
       " 'Gangnam Style',\n",
       " 'Psy',\n",
       " 'Dame Tu Cosita',\n",
       " 'El Chombo',\n",
       " 'Sugar',\n",
       " 'Maroon 5',\n",
       " 'Sorry',\n",
       " 'Justin Bieber',\n",
       " 'Roar',\n",
       " 'Katy Perry',\n",
       " 'Cocomelon – Nursery Rhymes',\n",
       " 'Counting Stars']"
      ]
     },
     "execution_count": 222,
     "metadata": {},
     "output_type": "execute_result"
    }
   ],
   "source": [
    "try:\n",
    "    video1=driver.find_elements_by_xpath('//*[@id=\"mw-content-text\"]/div[1]/table[3]/tbody/tr/td/a')\n",
    "    for i in video1:\n",
    "        video.append(i.text) \n",
    "except NoSuchElementException:\n",
    "    if i.text is None :\n",
    "        video.append(\"- -\")\n",
    "video1=video[0:25]\n",
    "video1"
   ]
  },
  {
   "cell_type": "code",
   "execution_count": 223,
   "id": "4cd69d3e",
   "metadata": {},
   "outputs": [],
   "source": [
    "try:\n",
    "    rank1=driver.find_elements_by_xpath('//*[@id=\"mw-content-text\"]/div[1]/table[3]/tbody/tr/td[1]')\n",
    "    for i in rank1:\n",
    "        rank.append(i.text) \n",
    "except NoSuchElementException:\n",
    "    if i.text is None :\n",
    "        rank.append(\"- -\")\n",
    "rank1=rank[0:25]"
   ]
  },
  {
   "cell_type": "code",
   "execution_count": 224,
   "id": "a5a9b585",
   "metadata": {},
   "outputs": [],
   "source": [
    "try:\n",
    "    artist1=driver.find_elements_by_xpath('//*[@id=\"mw-content-text\"]/div[1]/table[3]/tbody/tr/td[3]/a')\n",
    "    for i in artist1:\n",
    "        artist.append(i.text) \n",
    "except NoSuchElementException:\n",
    "    if i.text is None :\n",
    "        artist.append(\"- -\")\n",
    "artist[0:5]"
   ]
  },
  {
   "cell_type": "code",
   "execution_count": 225,
   "id": "f144d094",
   "metadata": {},
   "outputs": [],
   "source": [
    "try:\n",
    "    view1=driver.find_elements_by_xpath('//*[@id=\"mw-content-text\"]/div[1]/table[3]/tbody/tr/td[4]')\n",
    "    for i in view1:\n",
    "        views.append(i.text) \n",
    "except NoSuchElementException:\n",
    "    if i.text is None :\n",
    "        views.append(\"- -\")\n",
    "views1=views[0:25]"
   ]
  },
  {
   "cell_type": "code",
   "execution_count": 226,
   "id": "92a85079",
   "metadata": {},
   "outputs": [],
   "source": [
    "try:\n",
    "    date=driver.find_elements_by_xpath('//*[@id=\"mw-content-text\"]/div[1]/table[3]/tbody/tr/td[5]')\n",
    "    for i in date:\n",
    "        uploaddate.append(i.text) \n",
    "except NoSuchElementException:\n",
    "    if i.text is None :\n",
    "        uploaddate.append(\"- -\")\n",
    "upload1=uploaddate[0:25]"
   ]
  },
  {
   "cell_type": "code",
   "execution_count": 227,
   "id": "bd4253fc",
   "metadata": {},
   "outputs": [
    {
     "name": "stdout",
     "output_type": "stream",
     "text": [
      "25\n",
      "25\n",
      "25\n",
      "25\n",
      "25\n"
     ]
    }
   ],
   "source": [
    "rank1=print(len(rank1))\n",
    "video1=print(len(video1))\n",
    "artist1=print(len(artist1))\n",
    "views1=print(len(views1))\n",
    "upload1=print(len(upload1))"
   ]
  },
  {
   "cell_type": "code",
   "execution_count": 231,
   "id": "4c736e7d",
   "metadata": {},
   "outputs": [
    {
     "data": {
      "text/html": [
       "<div>\n",
       "<style scoped>\n",
       "    .dataframe tbody tr th:only-of-type {\n",
       "        vertical-align: middle;\n",
       "    }\n",
       "\n",
       "    .dataframe tbody tr th {\n",
       "        vertical-align: top;\n",
       "    }\n",
       "\n",
       "    .dataframe thead th {\n",
       "        text-align: right;\n",
       "    }\n",
       "</style>\n",
       "<table border=\"1\" class=\"dataframe\">\n",
       "  <thead>\n",
       "    <tr style=\"text-align: right;\">\n",
       "      <th></th>\n",
       "      <th>Rank</th>\n",
       "      <th>Video</th>\n",
       "      <th>Artist</th>\n",
       "      <th>Views</th>\n",
       "      <th>UploadDate</th>\n",
       "    </tr>\n",
       "  </thead>\n",
       "  <tbody>\n",
       "    <tr>\n",
       "      <th>0</th>\n",
       "      <td>None</td>\n",
       "      <td>None</td>\n",
       "      <td>None</td>\n",
       "      <td>None</td>\n",
       "      <td>None</td>\n",
       "    </tr>\n",
       "  </tbody>\n",
       "</table>\n",
       "</div>"
      ],
      "text/plain": [
       "   Rank Video Artist Views UploadDate\n",
       "0  None  None   None  None       None"
      ]
     },
     "execution_count": 231,
     "metadata": {},
     "output_type": "execute_result"
    }
   ],
   "source": [
    "youtube=pd.DataFrame({'Rank':rank1,'Video':video1,'Artist':artist1,'Views':views1,'UploadDate':upload1},index=[0])\n",
    "youtube"
   ]
  },
  {
   "cell_type": "markdown",
   "id": "7c12fcaa",
   "metadata": {},
   "source": [
    "2. Scrape the details team India’s international fixtures from bcci.tv.\n",
    "\n",
    "Url = https://www.bcci.tv/.\n",
    "    \n",
    "You need to find following details:\n",
    "    \n",
    "A) Match title (I.e. 1\n",
    "st ODI)\n",
    "B) Series\n",
    "C) Place\n",
    "D) Date\n",
    "E) Time\n",
    "\n",
    "Note: - From bcci.tv home page you have reach to the international fixture page through code"
   ]
  },
  {
   "cell_type": "code",
   "execution_count": 232,
   "id": "24fd1f07",
   "metadata": {},
   "outputs": [],
   "source": [
    "import selenium\n",
    "import pandas as pd\n",
    "from selenium import webdriver\n",
    "from selenium.common.exceptions import NoSuchElementException\n",
    "import time"
   ]
  },
  {
   "cell_type": "code",
   "execution_count": 233,
   "id": "88af8b1b",
   "metadata": {},
   "outputs": [],
   "source": [
    "driver= webdriver.Chrome(r\"C:/Users/admin/Downloads/chromedriver_win32/chromedriver.exe\")"
   ]
  },
  {
   "cell_type": "code",
   "execution_count": 75,
   "id": "c174be72",
   "metadata": {},
   "outputs": [],
   "source": [
    "url= \"https://www.bcci.tv/\"\n",
    "driver.get(url)"
   ]
  },
  {
   "cell_type": "code",
   "execution_count": 76,
   "id": "e79240e1",
   "metadata": {},
   "outputs": [],
   "source": [
    "click1=driver.find_element_by_xpath(\"//li[@class='nav-item ml-0']\")\n",
    "click1.click()"
   ]
  },
  {
   "cell_type": "code",
   "execution_count": 77,
   "id": "8ac59f11",
   "metadata": {},
   "outputs": [],
   "source": [
    "match=[]\n",
    "Series=[]\n",
    "place1=[]\n",
    "date1=[]\n",
    "time1=[]"
   ]
  },
  {
   "cell_type": "code",
   "execution_count": 78,
   "id": "156bcbf4",
   "metadata": {},
   "outputs": [
    {
     "data": {
      "text/plain": [
       "['INDIA TOUR OF SOUTH AFRICA TEST SERIES 2021-22',\n",
       " 'Stumps Day 3',\n",
       " '(77.3 ov)',\n",
       " 'ICC MENS UNDER 19 WORLD CUP 2022',\n",
       " 'ICC MENS UNDER 19 WORLD CUP 2022',\n",
       " 'INDIA TOUR OF SOUTH AFRICA ODI SERIES 2021/22',\n",
       " 'INDIA TOUR OF SOUTH AFRICA ODI SERIES 2021/22',\n",
       " 'ICC MENS UNDER 19 WORLD CUP 2022',\n",
       " 'INDIA TOUR OF SOUTH AFRICA ODI SERIES 2021/22',\n",
       " 'WEST INDIES TOUR OF INDIA ODI SERIES 2022']"
      ]
     },
     "execution_count": 78,
     "metadata": {},
     "output_type": "execute_result"
    }
   ],
   "source": [
    "try:\n",
    "    mat=driver.find_elements_by_xpath(\"//span[@class='ng-binding']\")\n",
    "    for i in mat:\n",
    "        match.append(i.text) \n",
    "except NoSuchElementException:\n",
    "    if i.text is None :\n",
    "        match.append(\"- -\")\n",
    "\n",
    "match"
   ]
  },
  {
   "cell_type": "code",
   "execution_count": 79,
   "id": "148a273b",
   "metadata": {},
   "outputs": [
    {
     "data": {
      "text/plain": [
       "['3rd Test - Newlands, Cape Town',\n",
       " '- Providence Stadium, Guyana',\n",
       " '- Brian Lara Stadium, Trinidad',\n",
       " '1st ODI - Boland Park, Paarl',\n",
       " '2nd ODI - Boland Park, Paarl',\n",
       " '- Brian Lara Stadium, Trinidad',\n",
       " '3rd ODI - Newlands, Cape Town',\n",
       " '1st ODI - NARENDRA MODI STADIUM, Ahmedabad']"
      ]
     },
     "execution_count": 79,
     "metadata": {},
     "output_type": "execute_result"
    }
   ],
   "source": [
    "try:\n",
    "    ser=driver.find_elements_by_xpath(\"//div[@class='fix-place ng-binding ng-scope']\")\n",
    "    for i in ser:\n",
    "        Series.append(i.text) \n",
    "except NoSuchElementException:\n",
    "    if i.text is None :\n",
    "        Series.append(\"- -\")\n",
    "\n",
    "Series"
   ]
  },
  {
   "cell_type": "code",
   "execution_count": 80,
   "id": "2f632caa",
   "metadata": {},
   "outputs": [
    {
     "data": {
      "text/plain": [
       "['(76.2 ov)',\n",
       " '(29.4 ov)',\n",
       " '(67.3 ov)',\n",
       " 'Newlands,',\n",
       " 'Providence Stadium,',\n",
       " 'Brian Lara Stadium,',\n",
       " 'Boland Park,',\n",
       " 'Boland Park,',\n",
       " 'Brian Lara Stadium,',\n",
       " 'Newlands,',\n",
       " 'NARENDRA MODI STADIUM,']"
      ]
     },
     "execution_count": 80,
     "metadata": {},
     "output_type": "execute_result"
    }
   ],
   "source": [
    "try:\n",
    "    pla=driver.find_elements_by_xpath(\"//span[@class='ng-binding ng-scope']\")\n",
    "    for i in pla:\n",
    "        place1.append(i.text) \n",
    "except NoSuchElementException:\n",
    "    if i.text is None :\n",
    "        place1.append(\"- -\")\n",
    "\n",
    "place1"
   ]
  },
  {
   "cell_type": "code",
   "execution_count": 81,
   "id": "26e0df7b",
   "metadata": {},
   "outputs": [
    {
     "data": {
      "text/plain": [
       "['11 JAN 2022',\n",
       " '15 JAN 2022',\n",
       " '19 JAN 2022',\n",
       " '19 JAN 2022',\n",
       " '21 JAN 2022',\n",
       " '22 JAN 2022',\n",
       " '23 JAN 2022',\n",
       " '6 FEB 2022']"
      ]
     },
     "execution_count": 81,
     "metadata": {},
     "output_type": "execute_result"
    }
   ],
   "source": [
    "try:\n",
    "    dat=driver.find_elements_by_xpath(\"//div[@class='match-card-left match-schedule']\")\n",
    "    for i in dat:\n",
    "        date1.append(i.text) \n",
    "except NoSuchElementException:\n",
    "    if i.text is None :\n",
    "        date1.append(\"- -\")\n",
    "date1\n"
   ]
  },
  {
   "cell_type": "code",
   "execution_count": 82,
   "id": "cfa4ab06",
   "metadata": {},
   "outputs": [
    {
     "data": {
      "text/plain": [
       "['LIVE',\n",
       " '7:30 PM IST',\n",
       " '7:30 PM IST',\n",
       " '2:00 PM IST',\n",
       " '2:00 PM IST',\n",
       " '7:30 PM IST',\n",
       " '2:00 PM IST',\n",
       " '9:30 AM IST']"
      ]
     },
     "execution_count": 82,
     "metadata": {},
     "output_type": "execute_result"
    }
   ],
   "source": [
    "try:\n",
    "    tim=driver.find_elements_by_xpath(\"//div[@class='match-card-right match-schedule ']\")\n",
    "    for i in tim:\n",
    "        time1.append(i.text) \n",
    "except NoSuchElementException:\n",
    "    if i.text is None :\n",
    "        time1.append(\"- -\")\n",
    "time1"
   ]
  },
  {
   "cell_type": "code",
   "execution_count": 92,
   "id": "1f2c26e7",
   "metadata": {},
   "outputs": [
    {
     "name": "stdout",
     "output_type": "stream",
     "text": [
      "8\n",
      "8\n",
      "8\n",
      "8\n",
      "8\n"
     ]
    }
   ],
   "source": [
    "print(len(match[1:9]))\n",
    "print(len(Series))\n",
    "print(len(place1[1:9]))\n",
    "print(len(date1))\n",
    "print(len(time1))"
   ]
  },
  {
   "cell_type": "code",
   "execution_count": 94,
   "id": "c9730e0e",
   "metadata": {},
   "outputs": [
    {
     "data": {
      "text/html": [
       "<div>\n",
       "<style scoped>\n",
       "    .dataframe tbody tr th:only-of-type {\n",
       "        vertical-align: middle;\n",
       "    }\n",
       "\n",
       "    .dataframe tbody tr th {\n",
       "        vertical-align: top;\n",
       "    }\n",
       "\n",
       "    .dataframe thead th {\n",
       "        text-align: right;\n",
       "    }\n",
       "</style>\n",
       "<table border=\"1\" class=\"dataframe\">\n",
       "  <thead>\n",
       "    <tr style=\"text-align: right;\">\n",
       "      <th></th>\n",
       "      <th>Title</th>\n",
       "      <th>Series</th>\n",
       "      <th>Place</th>\n",
       "      <th>Date</th>\n",
       "      <th>Time</th>\n",
       "    </tr>\n",
       "  </thead>\n",
       "  <tbody>\n",
       "    <tr>\n",
       "      <th>0</th>\n",
       "      <td>Stumps Day 3</td>\n",
       "      <td>3rd Test - Newlands, Cape Town</td>\n",
       "      <td>(29.4 ov)</td>\n",
       "      <td>11 JAN 2022</td>\n",
       "      <td>LIVE</td>\n",
       "    </tr>\n",
       "    <tr>\n",
       "      <th>1</th>\n",
       "      <td>(77.3 ov)</td>\n",
       "      <td>- Providence Stadium, Guyana</td>\n",
       "      <td>(67.3 ov)</td>\n",
       "      <td>15 JAN 2022</td>\n",
       "      <td>7:30 PM IST</td>\n",
       "    </tr>\n",
       "    <tr>\n",
       "      <th>2</th>\n",
       "      <td>ICC MENS UNDER 19 WORLD CUP 2022</td>\n",
       "      <td>- Brian Lara Stadium, Trinidad</td>\n",
       "      <td>Newlands,</td>\n",
       "      <td>19 JAN 2022</td>\n",
       "      <td>7:30 PM IST</td>\n",
       "    </tr>\n",
       "    <tr>\n",
       "      <th>3</th>\n",
       "      <td>ICC MENS UNDER 19 WORLD CUP 2022</td>\n",
       "      <td>1st ODI - Boland Park, Paarl</td>\n",
       "      <td>Providence Stadium,</td>\n",
       "      <td>19 JAN 2022</td>\n",
       "      <td>2:00 PM IST</td>\n",
       "    </tr>\n",
       "    <tr>\n",
       "      <th>4</th>\n",
       "      <td>INDIA TOUR OF SOUTH AFRICA ODI SERIES 2021/22</td>\n",
       "      <td>2nd ODI - Boland Park, Paarl</td>\n",
       "      <td>Brian Lara Stadium,</td>\n",
       "      <td>21 JAN 2022</td>\n",
       "      <td>2:00 PM IST</td>\n",
       "    </tr>\n",
       "    <tr>\n",
       "      <th>5</th>\n",
       "      <td>INDIA TOUR OF SOUTH AFRICA ODI SERIES 2021/22</td>\n",
       "      <td>- Brian Lara Stadium, Trinidad</td>\n",
       "      <td>Boland Park,</td>\n",
       "      <td>22 JAN 2022</td>\n",
       "      <td>7:30 PM IST</td>\n",
       "    </tr>\n",
       "    <tr>\n",
       "      <th>6</th>\n",
       "      <td>ICC MENS UNDER 19 WORLD CUP 2022</td>\n",
       "      <td>3rd ODI - Newlands, Cape Town</td>\n",
       "      <td>Boland Park,</td>\n",
       "      <td>23 JAN 2022</td>\n",
       "      <td>2:00 PM IST</td>\n",
       "    </tr>\n",
       "    <tr>\n",
       "      <th>7</th>\n",
       "      <td>INDIA TOUR OF SOUTH AFRICA ODI SERIES 2021/22</td>\n",
       "      <td>1st ODI - NARENDRA MODI STADIUM, Ahmedabad</td>\n",
       "      <td>Brian Lara Stadium,</td>\n",
       "      <td>6 FEB 2022</td>\n",
       "      <td>9:30 AM IST</td>\n",
       "    </tr>\n",
       "  </tbody>\n",
       "</table>\n",
       "</div>"
      ],
      "text/plain": [
       "                                           Title  \\\n",
       "0                                   Stumps Day 3   \n",
       "1                                      (77.3 ov)   \n",
       "2               ICC MENS UNDER 19 WORLD CUP 2022   \n",
       "3               ICC MENS UNDER 19 WORLD CUP 2022   \n",
       "4  INDIA TOUR OF SOUTH AFRICA ODI SERIES 2021/22   \n",
       "5  INDIA TOUR OF SOUTH AFRICA ODI SERIES 2021/22   \n",
       "6               ICC MENS UNDER 19 WORLD CUP 2022   \n",
       "7  INDIA TOUR OF SOUTH AFRICA ODI SERIES 2021/22   \n",
       "\n",
       "                                       Series                Place  \\\n",
       "0              3rd Test - Newlands, Cape Town            (29.4 ov)   \n",
       "1                - Providence Stadium, Guyana            (67.3 ov)   \n",
       "2              - Brian Lara Stadium, Trinidad            Newlands,   \n",
       "3                1st ODI - Boland Park, Paarl  Providence Stadium,   \n",
       "4                2nd ODI - Boland Park, Paarl  Brian Lara Stadium,   \n",
       "5              - Brian Lara Stadium, Trinidad         Boland Park,   \n",
       "6               3rd ODI - Newlands, Cape Town         Boland Park,   \n",
       "7  1st ODI - NARENDRA MODI STADIUM, Ahmedabad  Brian Lara Stadium,   \n",
       "\n",
       "          Date         Time  \n",
       "0  11 JAN 2022         LIVE  \n",
       "1  15 JAN 2022  7:30 PM IST  \n",
       "2  19 JAN 2022  7:30 PM IST  \n",
       "3  19 JAN 2022  2:00 PM IST  \n",
       "4  21 JAN 2022  2:00 PM IST  \n",
       "5  22 JAN 2022  7:30 PM IST  \n",
       "6  23 JAN 2022  2:00 PM IST  \n",
       "7   6 FEB 2022  9:30 AM IST  "
      ]
     },
     "execution_count": 94,
     "metadata": {},
     "output_type": "execute_result"
    }
   ],
   "source": [
    "Fixtures=pd.DataFrame({'Title':match[1:9], 'Series':Series, 'Place': place1[1:9], 'Date': date1,'Time':time1})\n",
    "Fixtures"
   ]
  },
  {
   "cell_type": "markdown",
   "id": "31320366",
   "metadata": {},
   "source": [
    "# 3. Scrape the details of selenium exception from guru99.com.\n",
    "\n",
    "Url = https://www.guru99.com/\n",
    "    \n",
    "You need to find following details:\n",
    "A) Name\n",
    "B) Description\n",
    "\n",
    "Note: - From guru99 home page you have to reach to selenium exception handling page through code"
   ]
  },
  {
   "cell_type": "code",
   "execution_count": 28,
   "id": "e17bec79",
   "metadata": {},
   "outputs": [],
   "source": [
    "import selenium\n",
    "import pandas as pd\n",
    "import time \n",
    "from selenium import webdriver\n",
    "from selenium.common.exceptions import StaleElementReferenceException, NoSuchElementException"
   ]
  },
  {
   "cell_type": "code",
   "execution_count": 29,
   "id": "071dff53",
   "metadata": {},
   "outputs": [],
   "source": [
    "driver= webdriver.Chrome(r\"C:/Users/admin/Downloads/chromedriver_win32/chromedriver.exe\")"
   ]
  },
  {
   "cell_type": "code",
   "execution_count": 234,
   "id": "c62c316d",
   "metadata": {},
   "outputs": [],
   "source": [
    "driver.get(\"https://www.guru99.com/\")"
   ]
  },
  {
   "cell_type": "code",
   "execution_count": 236,
   "id": "c85f1f82",
   "metadata": {},
   "outputs": [],
   "source": [
    "click2=driver.find_element_by_xpath(\"//*[@id='menu-item-3173']/a/span\")\n",
    "click2.click()"
   ]
  },
  {
   "cell_type": "code",
   "execution_count": 241,
   "id": "53580533",
   "metadata": {},
   "outputs": [
    {
     "data": {
      "text/plain": [
       "<bound method WebElement.click of <selenium.webdriver.remote.webelement.WebElement (session=\"c7bf6764f782c920731a2bba6be92466\", element=\"245f19d8-805d-48b4-ada0-0b3f942ecf97\")>>"
      ]
     },
     "execution_count": 241,
     "metadata": {},
     "output_type": "execute_result"
    }
   ],
   "source": [
    "click_2=driver.find_element_by_id(\"menu-item-4622\")\n",
    "click_2.click"
   ]
  },
  {
   "cell_type": "code",
   "execution_count": 242,
   "id": "0043f281",
   "metadata": {},
   "outputs": [],
   "source": [
    "name=[]\n",
    "description=[]"
   ]
  },
  {
   "cell_type": "code",
   "execution_count": 245,
   "id": "e947aa33",
   "metadata": {},
   "outputs": [
    {
     "data": {
      "text/plain": [
       "['Tutorial',\n",
       " 'Tutorial',\n",
       " 'First Look',\n",
       " 'Selenium Tutorial Summary',\n",
       " 'What should I know?',\n",
       " 'First Look',\n",
       " 'Selenium WebDriver Basics Tutorial',\n",
       " 'TestNG',\n",
       " 'Frameworks',\n",
       " 'Advance Webdriver Stuff!',\n",
       " 'Selenium IDE Tutorial',\n",
       " 'Must Check!',\n",
       " 'Live Selenium Project']"
      ]
     },
     "execution_count": 245,
     "metadata": {},
     "output_type": "execute_result"
    }
   ],
   "source": [
    "try:\n",
    "    nam=driver.find_elements_by_xpath('//*[@id=\"post-193\"]/div/div/h3')\n",
    "    for i in nam:\n",
    "        name.append(i.text) \n",
    "except NoSuchElementException:\n",
    "    if i.text is None :\n",
    "        name.append(\"- -\")\n",
    "name"
   ]
  },
  {
   "cell_type": "code",
   "execution_count": 246,
   "id": "34106ed2",
   "metadata": {},
   "outputs": [
    {
     "data": {
      "text/plain": [
       "['Selenium is a popular open-source web-based automation tool. This online course is a step by step guide to learn Selenium Concepts. It is recommended you refer these Selenium Tutorials sequentially, one after the other.',\n",
       " 'This free Selenium tutorial is designed for beginners with little or no automation experience. If you are new to testing first take the basic Software Testing class.',\n",
       " 'It will be beneficial if you revisit Java, before reading tutorials on Webdriver']"
      ]
     },
     "execution_count": 246,
     "metadata": {},
     "output_type": "execute_result"
    }
   ],
   "source": [
    "try:\n",
    "    des=driver.find_elements_by_xpath('//*[@id=\"post-193\"]/div/div/p')\n",
    "    for i in des:\n",
    "        description.append(i.text) \n",
    "except NoSuchElementException:\n",
    "    if i.text is None :\n",
    "        description.append(\"- -\")\n",
    "description"
   ]
  },
  {
   "cell_type": "markdown",
   "id": "e4ed35bf",
   "metadata": {},
   "source": [
    "4. Scrape the details of State-wise GDP of India from statisticstime.com.\n",
    "\n",
    "Url = http://statisticstimes.com/\n",
    "    \n",
    "You have to find following details:\n",
    "A) Rank\n",
    "B) State\n",
    "C) GSDP\n",
    "D) GSDP\n",
    "E) Share\n",
    "F) GDP($ billion)\n",
    "\n",
    "Note: - From statisticstimes home page you have to reach to economy page through code."
   ]
  },
  {
   "cell_type": "code",
   "execution_count": 247,
   "id": "17755161",
   "metadata": {},
   "outputs": [],
   "source": [
    "import selenium\n",
    "import pandas as pd\n",
    "import time \n",
    "from selenium import webdriver\n",
    "from selenium.common.exceptions import StaleElementReferenceException, NoSuchElementException"
   ]
  },
  {
   "cell_type": "code",
   "execution_count": 248,
   "id": "a3589c20",
   "metadata": {},
   "outputs": [],
   "source": [
    "driver= webdriver.Chrome(r\"C:/Users/admin/Downloads/chromedriver_win32/chromedriver.exe\")"
   ]
  },
  {
   "cell_type": "code",
   "execution_count": 249,
   "id": "8828eccb",
   "metadata": {},
   "outputs": [],
   "source": [
    "driver.get(\"http://statisticstimes.com/\")"
   ]
  },
  {
   "cell_type": "code",
   "execution_count": 122,
   "id": "9c13fe31",
   "metadata": {},
   "outputs": [
    {
     "data": {
      "text/plain": [
       "['https://www.statisticstimes.com/index.php',\n",
       " 'https://www.statisticstimes.com/india.php',\n",
       " 'https://www.statisticstimes.com/economy/world-statistics.php',\n",
       " 'https://www.statisticstimes.com/economy/country-statistics.php',\n",
       " 'https://www.statisticstimes.com/economy/india-statistics.php',\n",
       " 'https://www.statisticstimes.com/demographics/world-statistics.php',\n",
       " 'https://www.statisticstimes.com/demographics/country-statistics.php',\n",
       " 'https://www.statisticstimes.com/demographics/india-statistics.php',\n",
       " 'https://www.statisticstimes.com/politics/india-statistics.php',\n",
       " 'https://www.statisticstimes.com/geography/world-statistics.php',\n",
       " 'https://www.statisticstimes.com/geography/india-statistics.php',\n",
       " 'https://www.statisticstimes.com/sports/world-statistics.php',\n",
       " 'https://www.statisticstimes.com/sports/india-statistics.php',\n",
       " 'https://www.statisticstimes.com/article/world-statistics.php',\n",
       " 'https://www.statisticstimes.com/article/india-statistics.php']"
      ]
     },
     "execution_count": 122,
     "metadata": {},
     "output_type": "execute_result"
    }
   ],
   "source": [
    "urls=[]\n",
    "for i in driver.find_elements_by_xpath(\"//div[@class='dropdown-content']/a\"):\n",
    "    urls.append(i.get_attribute(\"href\"))\n",
    "urls"
   ]
  },
  {
   "cell_type": "code",
   "execution_count": 257,
   "id": "60698baa",
   "metadata": {},
   "outputs": [],
   "source": [
    "click3=driver.find_element_by_xpath('//div[@class=\"dropdown\"]/button').click()"
   ]
  },
  {
   "cell_type": "code",
   "execution_count": 260,
   "id": "7cd519e8",
   "metadata": {},
   "outputs": [],
   "source": [
    "Rank4=[]\n",
    "State=[] \n",
    "GSDP=[]\n",
    "GSDP1=[]\n",
    "Share=[]\n",
    "GDP=[]"
   ]
  },
  {
   "cell_type": "code",
   "execution_count": 274,
   "id": "e8c6ac2c",
   "metadata": {},
   "outputs": [],
   "source": [
    "try:\n",
    "    rank=driver.find_elements_by_xpath('//*[@id=\"table_id\"]/tbody/tr/td[1]')\n",
    "    for i in rank:\n",
    "        Rank4.append(i.text)\n",
    "except:\n",
    "    Rank4.append(\"--\")\n",
    "Rank=Rank4[0:33]"
   ]
  },
  {
   "cell_type": "code",
   "execution_count": 263,
   "id": "2c7bb579",
   "metadata": {},
   "outputs": [
    {
     "data": {
      "text/plain": [
       "['Maharashtra', 'Tamil Nadu', 'Uttar Pradesh', 'Gujarat', 'Karnataka']"
      ]
     },
     "execution_count": 263,
     "metadata": {},
     "output_type": "execute_result"
    }
   ],
   "source": [
    "try:\n",
    "    stat=driver.find_elements_by_xpath('//*[@id=\"table_id\"]/tbody/tr/td[2]')\n",
    "    for i in stat:\n",
    "        State.append(i.text)\n",
    "except:\n",
    "    State.append(\"--\")\n",
    "State[0:5]"
   ]
  },
  {
   "cell_type": "code",
   "execution_count": 264,
   "id": "59e28c7e",
   "metadata": {},
   "outputs": [
    {
     "data": {
      "text/plain": [
       "['-', '1,845,853', '1,687,818', '-', '1,631,977']"
      ]
     },
     "execution_count": 264,
     "metadata": {},
     "output_type": "execute_result"
    }
   ],
   "source": [
    "try:\n",
    "    gs=driver.find_elements_by_xpath('//*[@id=\"table_id\"]/tbody/tr/td[3]')\n",
    "    for i in gs:\n",
    "        GSDP.append(i.text)\n",
    "except:\n",
    "    GSDP.append(\"--\")\n",
    "GSDP[0:5]"
   ]
  },
  {
   "cell_type": "code",
   "execution_count": 265,
   "id": "ea3b91ac",
   "metadata": {},
   "outputs": [
    {
     "data": {
      "text/plain": [
       "['2,632,792', '1,630,208', '1,584,764', '1,502,899', '1,493,127']"
      ]
     },
     "execution_count": 265,
     "metadata": {},
     "output_type": "execute_result"
    }
   ],
   "source": [
    "try:\n",
    "    gsd=driver.find_elements_by_xpath('//*[@id=\"table_id\"]/tbody/tr/td[4]')\n",
    "    for i in gsd:\n",
    "        GSDP1.append(i.text)\n",
    "except:\n",
    "    GSDP1.append(\"--\")\n",
    "GSDP1[0:5]"
   ]
  },
  {
   "cell_type": "code",
   "execution_count": 266,
   "id": "bcd69577",
   "metadata": {},
   "outputs": [
    {
     "data": {
      "text/plain": [
       "['13.94%', '8.63%', '8.39%', '7.96%', '7.91%']"
      ]
     },
     "execution_count": 266,
     "metadata": {},
     "output_type": "execute_result"
    }
   ],
   "source": [
    "try:\n",
    "    share=driver.find_elements_by_xpath('//*[@id=\"table_id\"]/tbody/tr/td[5]')\n",
    "    for i in share:\n",
    "        Share.append(i.text)\n",
    "except:\n",
    "    Share.append(\"--\")\n",
    "Share[0:5]"
   ]
  },
  {
   "cell_type": "code",
   "execution_count": 267,
   "id": "bb1f9c84",
   "metadata": {},
   "outputs": [
    {
     "data": {
      "text/plain": [
       "['399.921', '247.629', '240.726', '228.290', '226.806']"
      ]
     },
     "execution_count": 267,
     "metadata": {},
     "output_type": "execute_result"
    }
   ],
   "source": [
    "try:\n",
    "    gdp=driver.find_elements_by_xpath('//*[@id=\"table_id\"]/tbody/tr/td[6]')\n",
    "    for i in gdp:\n",
    "        GDP.append(i.text)\n",
    "except:\n",
    "    GDP.append(\"--\")\n",
    "GDP[0:5]"
   ]
  },
  {
   "cell_type": "code",
   "execution_count": 275,
   "id": "7607c240",
   "metadata": {},
   "outputs": [
    {
     "data": {
      "text/html": [
       "<div>\n",
       "<style scoped>\n",
       "    .dataframe tbody tr th:only-of-type {\n",
       "        vertical-align: middle;\n",
       "    }\n",
       "\n",
       "    .dataframe tbody tr th {\n",
       "        vertical-align: top;\n",
       "    }\n",
       "\n",
       "    .dataframe thead th {\n",
       "        text-align: right;\n",
       "    }\n",
       "</style>\n",
       "<table border=\"1\" class=\"dataframe\">\n",
       "  <thead>\n",
       "    <tr style=\"text-align: right;\">\n",
       "      <th></th>\n",
       "      <th>Rank</th>\n",
       "      <th>State</th>\n",
       "      <th>GSDP</th>\n",
       "      <th>GSDP1</th>\n",
       "      <th>GDP</th>\n",
       "      <th>Share</th>\n",
       "    </tr>\n",
       "  </thead>\n",
       "  <tbody>\n",
       "    <tr>\n",
       "      <th>0</th>\n",
       "      <td>1</td>\n",
       "      <td>Maharashtra</td>\n",
       "      <td>-</td>\n",
       "      <td>2,632,792</td>\n",
       "      <td>399.921</td>\n",
       "      <td>&lt;selenium.webdriver.remote.webelement.WebEleme...</td>\n",
       "    </tr>\n",
       "    <tr>\n",
       "      <th>1</th>\n",
       "      <td>2</td>\n",
       "      <td>Tamil Nadu</td>\n",
       "      <td>1,845,853</td>\n",
       "      <td>1,630,208</td>\n",
       "      <td>247.629</td>\n",
       "      <td>&lt;selenium.webdriver.remote.webelement.WebEleme...</td>\n",
       "    </tr>\n",
       "    <tr>\n",
       "      <th>2</th>\n",
       "      <td>3</td>\n",
       "      <td>Uttar Pradesh</td>\n",
       "      <td>1,687,818</td>\n",
       "      <td>1,584,764</td>\n",
       "      <td>240.726</td>\n",
       "      <td>&lt;selenium.webdriver.remote.webelement.WebEleme...</td>\n",
       "    </tr>\n",
       "    <tr>\n",
       "      <th>3</th>\n",
       "      <td>4</td>\n",
       "      <td>Gujarat</td>\n",
       "      <td>-</td>\n",
       "      <td>1,502,899</td>\n",
       "      <td>228.290</td>\n",
       "      <td>&lt;selenium.webdriver.remote.webelement.WebEleme...</td>\n",
       "    </tr>\n",
       "    <tr>\n",
       "      <th>4</th>\n",
       "      <td>5</td>\n",
       "      <td>Karnataka</td>\n",
       "      <td>1,631,977</td>\n",
       "      <td>1,493,127</td>\n",
       "      <td>226.806</td>\n",
       "      <td>&lt;selenium.webdriver.remote.webelement.WebEleme...</td>\n",
       "    </tr>\n",
       "    <tr>\n",
       "      <th>5</th>\n",
       "      <td>6</td>\n",
       "      <td>West Bengal</td>\n",
       "      <td>1,253,832</td>\n",
       "      <td>1,089,898</td>\n",
       "      <td>165.556</td>\n",
       "      <td>&lt;selenium.webdriver.remote.webelement.WebEleme...</td>\n",
       "    </tr>\n",
       "    <tr>\n",
       "      <th>6</th>\n",
       "      <td>7</td>\n",
       "      <td>Rajasthan</td>\n",
       "      <td>1,020,989</td>\n",
       "      <td>942,586</td>\n",
       "      <td>143.179</td>\n",
       "      <td>&lt;selenium.webdriver.remote.webelement.WebEleme...</td>\n",
       "    </tr>\n",
       "    <tr>\n",
       "      <th>7</th>\n",
       "      <td>8</td>\n",
       "      <td>Andhra Pradesh</td>\n",
       "      <td>972,782</td>\n",
       "      <td>862,957</td>\n",
       "      <td>131.083</td>\n",
       "      <td>&lt;selenium.webdriver.remote.webelement.WebEleme...</td>\n",
       "    </tr>\n",
       "    <tr>\n",
       "      <th>8</th>\n",
       "      <td>9</td>\n",
       "      <td>Telangana</td>\n",
       "      <td>969,604</td>\n",
       "      <td>861,031</td>\n",
       "      <td>130.791</td>\n",
       "      <td>&lt;selenium.webdriver.remote.webelement.WebEleme...</td>\n",
       "    </tr>\n",
       "    <tr>\n",
       "      <th>9</th>\n",
       "      <td>10</td>\n",
       "      <td>Madhya Pradesh</td>\n",
       "      <td>906,672</td>\n",
       "      <td>809,592</td>\n",
       "      <td>122.977</td>\n",
       "      <td>&lt;selenium.webdriver.remote.webelement.WebEleme...</td>\n",
       "    </tr>\n",
       "    <tr>\n",
       "      <th>10</th>\n",
       "      <td>11</td>\n",
       "      <td>Kerala</td>\n",
       "      <td>-</td>\n",
       "      <td>781,653</td>\n",
       "      <td>118.733</td>\n",
       "      <td>&lt;selenium.webdriver.remote.webelement.WebEleme...</td>\n",
       "    </tr>\n",
       "    <tr>\n",
       "      <th>11</th>\n",
       "      <td>12</td>\n",
       "      <td>Delhi</td>\n",
       "      <td>856,112</td>\n",
       "      <td>774,870</td>\n",
       "      <td>117.703</td>\n",
       "      <td>&lt;selenium.webdriver.remote.webelement.WebEleme...</td>\n",
       "    </tr>\n",
       "    <tr>\n",
       "      <th>12</th>\n",
       "      <td>13</td>\n",
       "      <td>Haryana</td>\n",
       "      <td>831,610</td>\n",
       "      <td>734,163</td>\n",
       "      <td>111.519</td>\n",
       "      <td>&lt;selenium.webdriver.remote.webelement.WebEleme...</td>\n",
       "    </tr>\n",
       "    <tr>\n",
       "      <th>13</th>\n",
       "      <td>14</td>\n",
       "      <td>Bihar</td>\n",
       "      <td>611,804</td>\n",
       "      <td>530,363</td>\n",
       "      <td>80.562</td>\n",
       "      <td>&lt;selenium.webdriver.remote.webelement.WebEleme...</td>\n",
       "    </tr>\n",
       "    <tr>\n",
       "      <th>14</th>\n",
       "      <td>15</td>\n",
       "      <td>Punjab</td>\n",
       "      <td>574,760</td>\n",
       "      <td>526,376</td>\n",
       "      <td>79.957</td>\n",
       "      <td>&lt;selenium.webdriver.remote.webelement.WebEleme...</td>\n",
       "    </tr>\n",
       "    <tr>\n",
       "      <th>15</th>\n",
       "      <td>16</td>\n",
       "      <td>Odisha</td>\n",
       "      <td>521,275</td>\n",
       "      <td>487,805</td>\n",
       "      <td>74.098</td>\n",
       "      <td>&lt;selenium.webdriver.remote.webelement.WebEleme...</td>\n",
       "    </tr>\n",
       "    <tr>\n",
       "      <th>16</th>\n",
       "      <td>17</td>\n",
       "      <td>Assam</td>\n",
       "      <td>-</td>\n",
       "      <td>315,881</td>\n",
       "      <td>47.982</td>\n",
       "      <td>&lt;selenium.webdriver.remote.webelement.WebEleme...</td>\n",
       "    </tr>\n",
       "    <tr>\n",
       "      <th>17</th>\n",
       "      <td>18</td>\n",
       "      <td>Chhattisgarh</td>\n",
       "      <td>329,180</td>\n",
       "      <td>304,063</td>\n",
       "      <td>46.187</td>\n",
       "      <td>&lt;selenium.webdriver.remote.webelement.WebEleme...</td>\n",
       "    </tr>\n",
       "    <tr>\n",
       "      <th>18</th>\n",
       "      <td>19</td>\n",
       "      <td>Jharkhand</td>\n",
       "      <td>328,598</td>\n",
       "      <td>297,204</td>\n",
       "      <td>45.145</td>\n",
       "      <td>&lt;selenium.webdriver.remote.webelement.WebEleme...</td>\n",
       "    </tr>\n",
       "    <tr>\n",
       "      <th>19</th>\n",
       "      <td>20</td>\n",
       "      <td>Uttarakhand</td>\n",
       "      <td>-</td>\n",
       "      <td>245,895</td>\n",
       "      <td>37.351</td>\n",
       "      <td>&lt;selenium.webdriver.remote.webelement.WebEleme...</td>\n",
       "    </tr>\n",
       "    <tr>\n",
       "      <th>20</th>\n",
       "      <td>21</td>\n",
       "      <td>Jammu &amp; Kashmir</td>\n",
       "      <td>-</td>\n",
       "      <td>155,956</td>\n",
       "      <td>23.690</td>\n",
       "      <td>&lt;selenium.webdriver.remote.webelement.WebEleme...</td>\n",
       "    </tr>\n",
       "    <tr>\n",
       "      <th>21</th>\n",
       "      <td>22</td>\n",
       "      <td>Himachal Pradesh</td>\n",
       "      <td>165,472</td>\n",
       "      <td>153,845</td>\n",
       "      <td>23.369</td>\n",
       "      <td>&lt;selenium.webdriver.remote.webelement.WebEleme...</td>\n",
       "    </tr>\n",
       "    <tr>\n",
       "      <th>22</th>\n",
       "      <td>23</td>\n",
       "      <td>Goa</td>\n",
       "      <td>80,449</td>\n",
       "      <td>73,170</td>\n",
       "      <td>11.115</td>\n",
       "      <td>&lt;selenium.webdriver.remote.webelement.WebEleme...</td>\n",
       "    </tr>\n",
       "    <tr>\n",
       "      <th>23</th>\n",
       "      <td>24</td>\n",
       "      <td>Tripura</td>\n",
       "      <td>55,984</td>\n",
       "      <td>49,845</td>\n",
       "      <td>7.571</td>\n",
       "      <td>&lt;selenium.webdriver.remote.webelement.WebEleme...</td>\n",
       "    </tr>\n",
       "    <tr>\n",
       "      <th>24</th>\n",
       "      <td>25</td>\n",
       "      <td>Chandigarh</td>\n",
       "      <td>-</td>\n",
       "      <td>42,114</td>\n",
       "      <td>6.397</td>\n",
       "      <td>&lt;selenium.webdriver.remote.webelement.WebEleme...</td>\n",
       "    </tr>\n",
       "    <tr>\n",
       "      <th>25</th>\n",
       "      <td>26</td>\n",
       "      <td>Puducherry</td>\n",
       "      <td>38,253</td>\n",
       "      <td>34,433</td>\n",
       "      <td>5.230</td>\n",
       "      <td>&lt;selenium.webdriver.remote.webelement.WebEleme...</td>\n",
       "    </tr>\n",
       "    <tr>\n",
       "      <th>26</th>\n",
       "      <td>27</td>\n",
       "      <td>Meghalaya</td>\n",
       "      <td>36,572</td>\n",
       "      <td>33,481</td>\n",
       "      <td>5.086</td>\n",
       "      <td>&lt;selenium.webdriver.remote.webelement.WebEleme...</td>\n",
       "    </tr>\n",
       "    <tr>\n",
       "      <th>27</th>\n",
       "      <td>28</td>\n",
       "      <td>Sikkim</td>\n",
       "      <td>32,496</td>\n",
       "      <td>28,723</td>\n",
       "      <td>4.363</td>\n",
       "      <td>&lt;selenium.webdriver.remote.webelement.WebEleme...</td>\n",
       "    </tr>\n",
       "    <tr>\n",
       "      <th>28</th>\n",
       "      <td>29</td>\n",
       "      <td>Manipur</td>\n",
       "      <td>31,790</td>\n",
       "      <td>27,870</td>\n",
       "      <td>4.233</td>\n",
       "      <td>&lt;selenium.webdriver.remote.webelement.WebEleme...</td>\n",
       "    </tr>\n",
       "    <tr>\n",
       "      <th>29</th>\n",
       "      <td>30</td>\n",
       "      <td>Nagaland</td>\n",
       "      <td>-</td>\n",
       "      <td>27,283</td>\n",
       "      <td>4.144</td>\n",
       "      <td>&lt;selenium.webdriver.remote.webelement.WebEleme...</td>\n",
       "    </tr>\n",
       "    <tr>\n",
       "      <th>30</th>\n",
       "      <td>31</td>\n",
       "      <td>Arunachal Pradesh</td>\n",
       "      <td>-</td>\n",
       "      <td>24,603</td>\n",
       "      <td>3.737</td>\n",
       "      <td>&lt;selenium.webdriver.remote.webelement.WebEleme...</td>\n",
       "    </tr>\n",
       "    <tr>\n",
       "      <th>31</th>\n",
       "      <td>32</td>\n",
       "      <td>Mizoram</td>\n",
       "      <td>26,503</td>\n",
       "      <td>22,287</td>\n",
       "      <td>3.385</td>\n",
       "      <td>&lt;selenium.webdriver.remote.webelement.WebEleme...</td>\n",
       "    </tr>\n",
       "    <tr>\n",
       "      <th>32</th>\n",
       "      <td>33</td>\n",
       "      <td>Andaman &amp; Nicobar Islands</td>\n",
       "      <td>-</td>\n",
       "      <td>-</td>\n",
       "      <td>-</td>\n",
       "      <td>&lt;selenium.webdriver.remote.webelement.WebEleme...</td>\n",
       "    </tr>\n",
       "  </tbody>\n",
       "</table>\n",
       "</div>"
      ],
      "text/plain": [
       "   Rank                      State       GSDP      GSDP1      GDP  \\\n",
       "0     1                Maharashtra          -  2,632,792  399.921   \n",
       "1     2                 Tamil Nadu  1,845,853  1,630,208  247.629   \n",
       "2     3              Uttar Pradesh  1,687,818  1,584,764  240.726   \n",
       "3     4                    Gujarat          -  1,502,899  228.290   \n",
       "4     5                  Karnataka  1,631,977  1,493,127  226.806   \n",
       "5     6                West Bengal  1,253,832  1,089,898  165.556   \n",
       "6     7                  Rajasthan  1,020,989    942,586  143.179   \n",
       "7     8             Andhra Pradesh    972,782    862,957  131.083   \n",
       "8     9                  Telangana    969,604    861,031  130.791   \n",
       "9    10             Madhya Pradesh    906,672    809,592  122.977   \n",
       "10   11                     Kerala          -    781,653  118.733   \n",
       "11   12                      Delhi    856,112    774,870  117.703   \n",
       "12   13                    Haryana    831,610    734,163  111.519   \n",
       "13   14                      Bihar    611,804    530,363   80.562   \n",
       "14   15                     Punjab    574,760    526,376   79.957   \n",
       "15   16                     Odisha    521,275    487,805   74.098   \n",
       "16   17                      Assam          -    315,881   47.982   \n",
       "17   18               Chhattisgarh    329,180    304,063   46.187   \n",
       "18   19                  Jharkhand    328,598    297,204   45.145   \n",
       "19   20                Uttarakhand          -    245,895   37.351   \n",
       "20   21            Jammu & Kashmir          -    155,956   23.690   \n",
       "21   22           Himachal Pradesh    165,472    153,845   23.369   \n",
       "22   23                        Goa     80,449     73,170   11.115   \n",
       "23   24                    Tripura     55,984     49,845    7.571   \n",
       "24   25                 Chandigarh          -     42,114    6.397   \n",
       "25   26                 Puducherry     38,253     34,433    5.230   \n",
       "26   27                  Meghalaya     36,572     33,481    5.086   \n",
       "27   28                     Sikkim     32,496     28,723    4.363   \n",
       "28   29                    Manipur     31,790     27,870    4.233   \n",
       "29   30                   Nagaland          -     27,283    4.144   \n",
       "30   31          Arunachal Pradesh          -     24,603    3.737   \n",
       "31   32                    Mizoram     26,503     22,287    3.385   \n",
       "32   33  Andaman & Nicobar Islands          -          -        -   \n",
       "\n",
       "                                                Share  \n",
       "0   <selenium.webdriver.remote.webelement.WebEleme...  \n",
       "1   <selenium.webdriver.remote.webelement.WebEleme...  \n",
       "2   <selenium.webdriver.remote.webelement.WebEleme...  \n",
       "3   <selenium.webdriver.remote.webelement.WebEleme...  \n",
       "4   <selenium.webdriver.remote.webelement.WebEleme...  \n",
       "5   <selenium.webdriver.remote.webelement.WebEleme...  \n",
       "6   <selenium.webdriver.remote.webelement.WebEleme...  \n",
       "7   <selenium.webdriver.remote.webelement.WebEleme...  \n",
       "8   <selenium.webdriver.remote.webelement.WebEleme...  \n",
       "9   <selenium.webdriver.remote.webelement.WebEleme...  \n",
       "10  <selenium.webdriver.remote.webelement.WebEleme...  \n",
       "11  <selenium.webdriver.remote.webelement.WebEleme...  \n",
       "12  <selenium.webdriver.remote.webelement.WebEleme...  \n",
       "13  <selenium.webdriver.remote.webelement.WebEleme...  \n",
       "14  <selenium.webdriver.remote.webelement.WebEleme...  \n",
       "15  <selenium.webdriver.remote.webelement.WebEleme...  \n",
       "16  <selenium.webdriver.remote.webelement.WebEleme...  \n",
       "17  <selenium.webdriver.remote.webelement.WebEleme...  \n",
       "18  <selenium.webdriver.remote.webelement.WebEleme...  \n",
       "19  <selenium.webdriver.remote.webelement.WebEleme...  \n",
       "20  <selenium.webdriver.remote.webelement.WebEleme...  \n",
       "21  <selenium.webdriver.remote.webelement.WebEleme...  \n",
       "22  <selenium.webdriver.remote.webelement.WebEleme...  \n",
       "23  <selenium.webdriver.remote.webelement.WebEleme...  \n",
       "24  <selenium.webdriver.remote.webelement.WebEleme...  \n",
       "25  <selenium.webdriver.remote.webelement.WebEleme...  \n",
       "26  <selenium.webdriver.remote.webelement.WebEleme...  \n",
       "27  <selenium.webdriver.remote.webelement.WebEleme...  \n",
       "28  <selenium.webdriver.remote.webelement.WebEleme...  \n",
       "29  <selenium.webdriver.remote.webelement.WebEleme...  \n",
       "30  <selenium.webdriver.remote.webelement.WebEleme...  \n",
       "31  <selenium.webdriver.remote.webelement.WebEleme...  \n",
       "32  <selenium.webdriver.remote.webelement.WebEleme...  "
      ]
     },
     "execution_count": 275,
     "metadata": {},
     "output_type": "execute_result"
    }
   ],
   "source": [
    "Economy=pd.DataFrame({'Rank':Rank,'State':State,'GSDP':GSDP,'GSDP1':GSDP1,'GDP':GDP,'Share':share})\n",
    "Economy"
   ]
  },
  {
   "cell_type": "code",
   "execution_count": 270,
   "id": "49b7e72d",
   "metadata": {},
   "outputs": [
    {
     "name": "stdout",
     "output_type": "stream",
     "text": [
      "66 33 33 33 33 33\n"
     ]
    }
   ],
   "source": [
    "print(len(Rank4),len(State), \n",
    "len(GSDP),\n",
    "len(GSDP1),\n",
    "len(Share),\n",
    "len(GDP),)"
   ]
  },
  {
   "cell_type": "markdown",
   "id": "2c57e7c7",
   "metadata": {},
   "source": [
    "5. Scrape the details of trending repositories on Github.com.\n",
    "Url = https://github.com/\n",
    "You have to find the following details:\n",
    "A) Repository title\n",
    "B) Repository description\n",
    "C) Contributors count\n",
    "D) Language used\n",
    "\n",
    "Note: - From the home page you have to click on the trending option from Explore menu through code"
   ]
  },
  {
   "cell_type": "code",
   "execution_count": 31,
   "id": "9cbe7c8a",
   "metadata": {},
   "outputs": [],
   "source": [
    "import selenium\n",
    "import pandas as pd\n",
    "import time \n",
    "from selenium import webdriver\n",
    "from selenium.common.exceptions import StaleElementReferenceException, NoSuchElementException"
   ]
  },
  {
   "cell_type": "code",
   "execution_count": 32,
   "id": "926a8fdc",
   "metadata": {},
   "outputs": [],
   "source": [
    "driver= webdriver.Chrome(r\"C:/Users/admin/Downloads/chromedriver_win32/chromedriver.exe\")"
   ]
  },
  {
   "cell_type": "code",
   "execution_count": 278,
   "id": "b108a4e8",
   "metadata": {},
   "outputs": [],
   "source": [
    "url= \"https://github.com/\"\n",
    "driver.get(url)"
   ]
  },
  {
   "cell_type": "code",
   "execution_count": 281,
   "id": "7cea718b",
   "metadata": {},
   "outputs": [],
   "source": [
    "button = driver.find_element_by_xpath('/html/body/div[1]/header/div/div[2]/nav/ul/li[4]/details/summary')\n",
    "button.click()"
   ]
  },
  {
   "cell_type": "code",
   "execution_count": 295,
   "id": "2ebf3f9c",
   "metadata": {},
   "outputs": [],
   "source": [
    "Repos_title=[]\n",
    "Repos_des=[]\n",
    "Contributors=[]\n",
    "Language=[]"
   ]
  },
  {
   "cell_type": "code",
   "execution_count": 296,
   "id": "f2546f2a",
   "metadata": {},
   "outputs": [
    {
     "data": {
      "text/plain": [
       "['v4d1 / SpoofThatMail',\n",
       " 'windowjs / windowjs',\n",
       " 'withastro / astro',\n",
       " 'CyC2018 / CS-Notes',\n",
       " 'apache / superset']"
      ]
     },
     "execution_count": 296,
     "metadata": {},
     "output_type": "execute_result"
    }
   ],
   "source": [
    "try:\n",
    "    repos_t=driver.find_elements_by_xpath('//*[@id=\"js-pjax-container\"]/div[3]/div/div[2]/article/h1/a')\n",
    "    for i in repos_t:\n",
    "        Repos_title.append(i.text)\n",
    "except:\n",
    "    Repos_title.append(\"--\")\n",
    "Repos_title[0:5]"
   ]
  },
  {
   "cell_type": "code",
   "execution_count": 297,
   "id": "0747be03",
   "metadata": {},
   "outputs": [
    {
     "data": {
      "text/plain": [
       "['Bash script to check if a domain or list of domains can be spoofed based in DMARC records',\n",
       " 'Window.js is an open-source Javascript runtime for desktop graphics programming.',\n",
       " 'Build fast websites, faster. 🚀🧑\\u200d🚀✨',\n",
       " '📚 技术面试必备基础知识、Leetcode、计算机操作系统、计算机网络、系统设计',\n",
       " 'Apache Superset is a Data Visualization and Data Exploration Platform']"
      ]
     },
     "execution_count": 297,
     "metadata": {},
     "output_type": "execute_result"
    }
   ],
   "source": [
    "try:\n",
    "    repos_d=driver.find_elements_by_xpath('//*[@id=\"js-pjax-container\"]/div[3]/div/div[2]/article/p')\n",
    "    for i in repos_d:\n",
    "        Repos_des.append(i.text)\n",
    "except:\n",
    "    Repos_des.append(\"--\")\n",
    "Repos_des[0:5]"
   ]
  },
  {
   "cell_type": "code",
   "execution_count": 298,
   "id": "3428f28a",
   "metadata": {},
   "outputs": [
    {
     "data": {
      "text/plain": [
       "['24', '17', '452', '46,146', '8,438']"
      ]
     },
     "execution_count": 298,
     "metadata": {},
     "output_type": "execute_result"
    }
   ],
   "source": [
    "try:\n",
    "    contributor=driver.find_elements_by_xpath('//*[@id=\"js-pjax-container\"]/div[3]/div/div[2]/article/div[2]/a[2]')\n",
    "    for i in contributor:\n",
    "        Contributors.append(i.text)\n",
    "except:\n",
    "    Contributors.append(\"--\")\n",
    "Contributors[0:5]"
   ]
  },
  {
   "cell_type": "code",
   "execution_count": 299,
   "id": "4dcd12ee",
   "metadata": {},
   "outputs": [
    {
     "data": {
      "text/plain": [
       "['Shell', 'C++', 'TypeScript', 'Java', 'TypeScript']"
      ]
     },
     "execution_count": 299,
     "metadata": {},
     "output_type": "execute_result"
    }
   ],
   "source": [
    "try:\n",
    "    language=driver.find_elements_by_xpath('//*[@id=\"js-pjax-container\"]/div[3]/div/div[2]/article/div[2]/span[1]/span[2]')\n",
    "    for i in language:\n",
    "        Language.append(i.text)\n",
    "except:\n",
    "    Language.append(\"--\")\n",
    "Language[0:5]"
   ]
  },
  {
   "cell_type": "markdown",
   "id": "774bb26d",
   "metadata": {},
   "source": [
    "6. Scrape the details of top 100 songs on billiboard.com.\n",
    "Url = https:/www.billboard.com/\n",
    "You have to find the following details:\n",
    "A) Song name\n",
    "B) Artist name\n",
    "C) Last week rank\n",
    "D) Peak rank\n",
    "E) Weeks on board\n",
    "Note: - From the home page you have to click on the charts option then hot 100-page link through code"
   ]
  },
  {
   "cell_type": "code",
   "execution_count": 169,
   "id": "980c77d7",
   "metadata": {},
   "outputs": [],
   "source": [
    "import selenium\n",
    "import pandas as pd\n",
    "import time \n",
    "from selenium import webdriver\n",
    "from selenium.common.exceptions import StaleElementReferenceException, NoSuchElementException"
   ]
  },
  {
   "cell_type": "code",
   "execution_count": 170,
   "id": "3f8c8b10",
   "metadata": {},
   "outputs": [],
   "source": [
    "driver= webdriver.Chrome(r\"C:/Users/admin/Downloads/chromedriver_win32/chromedriver.exe\")"
   ]
  },
  {
   "cell_type": "code",
   "execution_count": 301,
   "id": "0426b8c5",
   "metadata": {},
   "outputs": [],
   "source": [
    "url= \"https:/www.billboard.com/\"\n",
    "driver.get(url)"
   ]
  },
  {
   "cell_type": "code",
   "execution_count": 302,
   "id": "418662dc",
   "metadata": {},
   "outputs": [],
   "source": [
    "try:\n",
    "    song = driver.find_element_by_xpath(\"//li[@class='o-nav__list-item ']\").click()   \n",
    "except NoSuchElementException:\n",
    "    print(\"Exception Occured. Moving to next page\")"
   ]
  },
  {
   "cell_type": "code",
   "execution_count": 318,
   "id": "d4bb2173",
   "metadata": {},
   "outputs": [
    {
     "data": {
      "text/plain": [
       "['Adele',\n",
       " 'Adele',\n",
       " '2',\n",
       " '1',\n",
       " '13',\n",
       " '1',\n",
       " '1\\nEasy On Me\\nAdele\\n2\\n1\\n13',\n",
       " '1\\nEasy On Me\\nAdele\\n2\\n1\\n13',\n",
       " '2\\nStay\\nThe Kid LAROI & Justin Bieber\\n6\\n1\\n26',\n",
       " '3\\nHeat Waves\\nGlass Animals\\n7\\n3\\n51',\n",
       " '3\\nHeat Waves\\nGlass Animals\\n7\\n3\\n51',\n",
       " \"THIS WEEK\\nAWARD\\ni\\nLAST WEEK\\nPEAK POS.\\nWKS ON CHART\\n1\\nEasy On Me\\nAdele\\n2\\n1\\n13\\n2\\nStay\\nThe Kid LAROI & Justin Bieber\\n6\\n1\\n26\\n3\\nHeat Waves\\nGlass Animals\\n7\\n3\\n51\\n4\\nShivers\\nEd Sheeran\\n9\\n4\\n17\\n5\\nWe Don't Talk About Bruno\\nCarolina Gaitan, Mauro Castillo, Adassa, Rhenzy Feliz, Diane Guerrero, Stephanie Beatriz & Encanto Cast\\n50\\n5\\n2\\n6\\nIndustry Baby\\nLil Nas X & Jack Harlow\\n12\\n1\\n24\\n7\\nCold Heart (PNAU Remix)\\nElton John & Dua Lipa\\n20\\n7\\n18\\n8\\nBad Habits\\nEd Sheeran\\n19\\n2\\n28\\n9\\nNeed To Know\\nDoja Cat\\n14\\n8\\n30\\n10\\nSuper Gremlin\\nKodak Black\\n16\\n10\\n9\\n11\\nabcdefu\\nGAYLE\\n17\\n11\\n7\\n12\\nRE- ENTRY\\nLevitating\\nDua Lipa\\n-\\n2\\n61\\n13\\nSmokin Out The Window\\nSilk Sonic (Bruno Mars & Anderson .Paak)\\n28\\n5\\n9\\n14\\nSurface Pressure\\nJessica Darrow\\n54\\n14\\n2\\n15\\nGood 4 U\\nOlivia Rodrigo\\n31\\n1\\n34\\n16\\nFancy Like\\nWalker Hayes\\n33\\n3\\n29\\n17\\nGhost\\nJustin Bieber\\n32\\n17\\n15\\n18\\nRE- ENTRY\\nSave Your Tears\\nThe Weeknd & Ariana Grande\\n-\\n1\\n53\\n19\\nKiss Me More\\nDoja Cat Featuring SZA\\n38\\n3\\n38\\n20\\nThats What I Want\\nLil Nas X\\n35\\n10\\n16\\n21\\nEssence\\nWizkid Featuring Justin Bieber & Tems\\n36\\n9\\n26\\n22\\nOne Right Now\\nPost Malone & The Weeknd\\n39\\n6\\n9\\n23\\nBetter Days\\nNEIKED X Mae Muller X Polo G\\n46\\n23\\n12\\n24\\nOh My God\\nAdele\\n40\\n5\\n7\\n25\\nYou Right\\nDoja Cat & The Weeknd\\n42\\n11\\n27\\n26\\nHappier Than Ever\\nBillie Eilish\\n43\\n11\\n23\\n27\\nBroadway Girls\\nLil Durk Featuring Morgan Wallen\\n30\\n14\\n3\\n28\\nBuy Dirt\\nJordan Davis Featuring Luke Bryan\\n51\\n28\\n22\\n29\\nLove Nwantiti (Ah Ah Ah)\\nCKay\\n48\\n29\\n16\\n30\\nI Hate U\\nSZA\\n49\\n7\\n5\\n31\\nKnife Talk\\nDrake Featuring 21 Savage & Project Pat\\n52\\n4\\n18\\n32\\nYou Should Probably Leave\\nChris Stapleton\\n55\\n32\\n27\\n33\\nWay 2 Sexy\\nDrake Featuring Future & Young Thug\\n53\\n1\\n18\\n34\\nHrs And Hrs\\nMuni Long\\n83\\n34\\n2\\n35\\nRE- ENTRY\\nIf I Didn't Love You\\nJason Aldean & Carrie Underwood\\n-\\n15\\n21\\n36\\nThinking 'Bout You\\nDustin Lynch Featuring Lauren Alaina Or MacKenzie Porter\\n44\\n30\\n21\\n37\\nWhiskey And Rain\\nMichael Ray\\n57\\n37\\n14\\n38\\nRE- ENTRY\\nBeggin'\\nManeskin\\n-\\n13\\n25\\n39\\nMeet Me At Our Spot\\nTHE ANXIETY: WILLOW & Tyler Cole\\n56\\n21\\n17\\n40\\nOne Mississippi\\nKane Brown\\n60\\n40\\n15\\n41\\nRE- ENTRY\\nMontero (Call Me By Your Name)\\nLil Nas X\\n-\\n1\\n35\\n42\\nBig Energy\\nLatto\\n62\\n42\\n11\\n43\\nSand In My Boots\\nMorgan Wallen\\n58\\n32\\n25\\n44\\nGirls Want Girls\\nDrake Featuring Lil Baby\\n59\\n2\\n18\\n45\\nFreedom Was A Highway\\nJimmie Allen & Brad Paisley\\n73\\n45\\n13\\n46\\nRE- ENTRY\\nPepas\\nFarruko\\n-\\n25\\n21\\n47\\nWho Want Smoke??\\nNardo Wick Featuring G Herbo, Lil Durk & 21 Savage\\n61\\n17\\n13\\n48\\nEnemy\\nImagine Dragons X JID\\n64\\n48\\n7\\n49\\nRE- ENTRY\\nLeave The Door Open\\nSilk Sonic (Bruno Mars & Anderson .Paak)\\n-\\n1\\n39\\n50\\nRE- ENTRY\\nChasing After You\\nRyan Hurd With Maren Morris\\n-\\n23\\n30\\n51\\nChosen\\nBlxst & Tyga Featuring Ty Dolla $ign\\n63\\n51\\n15\\n52\\nTo Be Loved By You\\nParker McCollum\\n77\\n52\\n6\\n53\\nHalf Of My Hometown\\nKelsea Ballerini Featuring Kenny Chesney\\n89\\n53\\n8\\n54\\nHave Mercy\\nChloe\\n68\\n28\\n17\\n55\\nAll Too Well (Taylor's Version)\\nTaylor Swift\\n66\\n1\\n8\\n56\\nWoman\\nDoja Cat\\n71\\n56\\n23\\n57\\n'Til You Can't\\nCody Johnson\\n70\\n57\\n13\\n58\\nMy Universe\\nColdplay x BTS\\n72\\n1\\n15\\n59\\nHeart On Fire\\nEric Church\\n78\\n59\\n7\\n60\\nTequila Little Time\\nJon Pardi\\n85\\n60\\n13\\n61\\nFor Tonight\\nGiveon\\n75\\n61\\n14\\n62\\nNEW\\nThe Family Madrigal\\nStephanie Beatriz, Olga Merediz & Encanto Cast\\n-\\n62\\n1\\n63\\nMessage In A Bottle (Taylor's Version) (From The Vault)\\nTaylor Swift\\n80\\n45\\n8\\n64\\nBy Your Side\\nRod Wave\\n76\\n58\\n6\\n65\\nDo It To It\\nAcraze Featuring Cherish\\n87\\n65\\n3\\n66\\nScorpio\\nMoneybagg Yo\\n81\\n66\\n7\\n67\\nNEW\\nWhat Else Can I Do?\\nDiane Guerrero & Stephanie Beatriz\\n-\\n67\\n1\\n68\\nNEW\\nFlower Shops\\nERNEST Featuring Morgan Wallen\\n-\\n68\\n1\\n69\\nNEW\\nFingers Crossed\\nLauren Spencer-Smith\\n-\\n69\\n1\\n70\\nSame Boat\\nZac Brown Band\\n86\\n48\\n16\\n71\\nLife Goes On\\nOliver Tree\\n84\\n71\\n5\\n72\\nBeers On Me\\nDierks Bentley, Breland & HARDY\\n96\\n72\\n2\\n73\\nPoke It Out\\nWale Featuring J. Cole\\n90\\n73\\n8\\n74\\nI Am Woman\\nEmmy Meli\\n92\\n74\\n2\\n75\\n23\\nSam Hunt\\n99\\n75\\n2\\n76\\nDoin' This\\nLuke Combs\\n88\\n53\\n4\\n77\\nBurn\\nJuice WRLD\\n82\\n34\\n4\\n78\\nBubbly\\nYoung Thug With Drake & Travis Scott\\n91\\n20\\n12\\n79\\nPressure\\nAri Lennox\\n94\\n79\\n2\\n80\\nNo Love\\nSummer Walker & SZA\\n98\\n13\\n9\\n81\\nFamily Ties\\nBaby Keem & Kendrick Lamar\\n100\\n18\\n19\\n82\\nNEW\\nWaiting On A Miracle\\nStephanie Beatriz\\n-\\n82\\n1\\n83\\nNEW\\nDos Oruguitas\\nSebastian Yatra\\n-\\n83\\n1\\n84\\nRE- ENTRY\\nToo Easy\\nGunna & Future\\n-\\n38\\n10\\n85\\nRE- ENTRY\\nFair Trade\\nDrake Featuring Travis Scott\\n-\\n3\\n15\\n86\\nRE- ENTRY\\nVolvi\\nAventura x Bad Bunny\\n-\\n22\\n18\\n87\\nNEW\\nAA\\nWalker Hayes\\n-\\n87\\n1\\n88\\nRE- ENTRY\\nCome Through\\nH.E.R. Featuring Chris Brown\\n-\\n64\\n18\\n89\\nWandered To LA.\\nJuice WRLD & Justin Bieber\\n95\\n49\\n5\\n90\\nNEW\\nHome Sweet\\nRussell Dickerson\\n-\\n90\\n1\\n91\\nNEW\\nCome Back As A Country Boy\\nBlake Shelton\\n-\\n91\\n1\\n92\\nAlready Dead\\nJuice WRLD\\n97\\n20\\n7\\n93\\nNEW\\nBlack Ball\\nYoungBoy Never Broke Again & Birdman\\n-\\n93\\n1\\n94\\nRE- ENTRY\\nBaddest\\nYung Bleu, Chris Brown & 2 Chainz\\n-\\n56\\n18\\n95\\nRE- ENTRY\\nMoth To A Flame\\nSwedish House Mafia & The Weeknd\\n-\\n27\\n7\\n96\\nRE- ENTRY\\nMe Or Sum\\nNardo Wick, Lil Baby & Future\\n-\\n86\\n2\\n97\\nNEW\\nI Love You So\\nThe Walters\\n-\\n97\\n1\\n98\\nRE- ENTRY\\nBad Man (Smooth Criminal)\\nPolo G\\n-\\n49\\n6\\n99\\nNEW\\nNever Wanted To Be That Girl\\nCarly Pearce & Ashley McBryde\\n-\\n99\\n1\\n100\\nRE- ENTRY\\nJust About Over You\\nPriscilla Block\\n-\\n81\\n7\"]"
      ]
     },
     "execution_count": 318,
     "metadata": {},
     "output_type": "execute_result"
    }
   ],
   "source": [
    "try:\n",
    "    art=driver.find_elements_by_xpath('//*[@id=\"post-1479786\"]/div[3]/div/div/div/div[2]')\n",
    "    for i in art:\n",
    "        artist.append(i.text) \n",
    "except NoSuchElementException:\n",
    "    if i.text is None :\n",
    "        artist.append(\"- -\")\n",
    "artist"
   ]
  },
  {
   "cell_type": "markdown",
   "id": "89d781d4",
   "metadata": {},
   "source": [
    "7. Scrape the details of Data science recruiters from naukri.com.\n",
    "Url = https://www.naukri.com/\n",
    "You have to find the following details:\n",
    "A) Name\n",
    "B) Designation\n",
    "C) Company\n",
    "D) Skills they hire for\n",
    "E) Location\n",
    "Note: - From naukri.com homepage click on the recruiters option and the on the search pane type Data science and\n",
    "click on search. All this should be done through code"
   ]
  },
  {
   "cell_type": "code",
   "execution_count": 97,
   "id": "bfd2e71d",
   "metadata": {},
   "outputs": [],
   "source": [
    "import selenium\n",
    "import pandas as pd\n",
    "import time\n",
    "from selenium import webdriver\n",
    "from selenium.common.exceptions import StaleElementReferenceException, NoSuchElementException\n",
    "driver= webdriver.Chrome(r\"C:/Users/admin/Downloads/chromedriver_win32/chromedriver.exe\")"
   ]
  },
  {
   "cell_type": "code",
   "execution_count": 98,
   "id": "b245190b",
   "metadata": {},
   "outputs": [],
   "source": [
    "url=\" https://www.naukri.com/\"\n",
    "driver.get(url)"
   ]
  },
  {
   "cell_type": "code",
   "execution_count": 99,
   "id": "45db82b2",
   "metadata": {},
   "outputs": [],
   "source": [
    "titl = driver.find_element_by_xpath(\"//input[@class='suggestor-input ']\").send_keys('Data Science') \n",
    "job = driver.find_element_by_xpath(\"//div[@class='qsbSubmit']\").click()    "
   ]
  },
  {
   "cell_type": "code",
   "execution_count": 100,
   "id": "008bd701",
   "metadata": {},
   "outputs": [],
   "source": [
    "Name7=[]\n",
    "Desig=[]\n",
    "Skill=[]\n",
    "Loc=[]"
   ]
  },
  {
   "cell_type": "code",
   "execution_count": 101,
   "id": "75ce5b3d",
   "metadata": {},
   "outputs": [
    {
     "data": {
      "text/plain": [
       "['Findoc Finvest Private Limited',\n",
       " 'BRIDGEi2i Analytics Solutions Private Limited',\n",
       " 'AVE-Promagne',\n",
       " 'Tcg Digital Solutions',\n",
       " 'Accenture',\n",
       " 'Perfect Day',\n",
       " 'Accenture',\n",
       " 'Accenture',\n",
       " 'Huquo Consulting Pvt. Ltd',\n",
       " 'Shell',\n",
       " 'Teksands',\n",
       " 'Dell',\n",
       " 'Accenture',\n",
       " '3D PLM Software Solutions Ltd.',\n",
       " 'Infosys',\n",
       " 'Equity Data Science',\n",
       " 'Lericon Informatics Pvt. Ltd.',\n",
       " 'Think360.ai',\n",
       " 'Accenture',\n",
       " 'Accenture']"
      ]
     },
     "execution_count": 101,
     "metadata": {},
     "output_type": "execute_result"
    }
   ],
   "source": [
    "try:\n",
    "    name1=driver.find_elements_by_xpath(\"//a[@class='subTitle ellipsis fleft']\")\n",
    "    for i in name1:\n",
    "        Name7.append(i.text)\n",
    "except:\n",
    "    Name7.append(\"--\")\n",
    "Name7"
   ]
  },
  {
   "cell_type": "code",
   "execution_count": 102,
   "id": "d236ca30",
   "metadata": {},
   "outputs": [
    {
     "data": {
      "text/plain": [
       "['Data Science/Data Analyst',\n",
       " 'BUSINESS ANALYST -DATA SCIENCE-CONSUMER',\n",
       " 'Data Science Trainer cum Learning Manager',\n",
       " 'Data Science Statistical Analysis and Implementation',\n",
       " 'India Market Unit - Data Science Analyst - 11',\n",
       " 'Data Science Analyst',\n",
       " 'ACN - Applied Intelligence - Solutions.AI - Data Science - 09',\n",
       " 'ACN - Applied Intelligence - CC - Data Science (IN) - 08',\n",
       " 'Senior Analyst - Data Science - IIT/NIT/IIM/XLRI/FMS',\n",
       " 'Data Science Team Lead',\n",
       " 'Junior Machine Learning and Data Science Engineers',\n",
       " 'Senior Advisor - Data Science',\n",
       " 'Senior Analyst-Data Science',\n",
       " 'Data Science Expert',\n",
       " 'Technology Analyst: Data Science | Machine Learning',\n",
       " 'Equity Data Science',\n",
       " 'Data Science',\n",
       " 'Lead- Data Science',\n",
       " 'Data Science Application Developer',\n",
       " 'Dataiku Data Science Studio (DSS) Application Developer']"
      ]
     },
     "execution_count": 102,
     "metadata": {},
     "output_type": "execute_result"
    }
   ],
   "source": [
    "try:\n",
    "    desig=driver.find_elements_by_xpath(\"//a[@class='title fw500 ellipsis']\")\n",
    "    for i in desig:\n",
    "        Desig.append(i.text)\n",
    "except:\n",
    "    Desig.append(\"--\")\n",
    "Desig"
   ]
  },
  {
   "cell_type": "code",
   "execution_count": 103,
   "id": "21d3057a",
   "metadata": {},
   "outputs": [
    {
     "data": {
      "text/plain": [
       "['Gurgaon/Gurugram',\n",
       " 'Bangalore/Bengaluru',\n",
       " 'Guwahati, Mumbai, Hyderabad/Secunderabad, Lucknow, Pune, Agra, Chennai, Gurgaon/Gurugram, Bangalore/Bengaluru',\n",
       " 'Remote',\n",
       " 'Mumbai, Gurgaon/Gurugram, Bangalore/Bengaluru',\n",
       " 'Bangalore/Bengaluru',\n",
       " 'Gurgaon/Gurugram',\n",
       " 'Gurgaon/Gurugram',\n",
       " 'Gurgaon/Gurugram',\n",
       " 'Chennai',\n",
       " 'Bangalore/Bengaluru',\n",
       " 'Bangalore/Bengaluru',\n",
       " 'Bangalore/Bengaluru',\n",
       " 'Pune',\n",
       " 'Bangalore/Bengaluru',\n",
       " 'Mumbai',\n",
       " 'Mumbai, Delhi / NCR, Bangalore/Bengaluru, Mumbai/ Delhi/ Bengaluru',\n",
       " 'Mumbai',\n",
       " 'Mumbai',\n",
       " 'Mumbai']"
      ]
     },
     "execution_count": 103,
     "metadata": {},
     "output_type": "execute_result"
    }
   ],
   "source": [
    "try:\n",
    "    loc=driver.find_elements_by_xpath(\"//li[@class='fleft grey-text br2 placeHolderLi location']\")\n",
    "    for i in loc:\n",
    "        Loc.append(i.text)\n",
    "except:\n",
    "    Loc.append(\"--\")\n",
    "Loc"
   ]
  },
  {
   "cell_type": "code",
   "execution_count": 104,
   "id": "41c272fb",
   "metadata": {},
   "outputs": [
    {
     "data": {
      "text/plain": [
       "['4 -7 Years of experience creating and using advanced machine learning algorithms and st...',\n",
       " 'Should have knowledge on techniques like Forecasting, Segmentation, etcShould have know...',\n",
       " 'Support Data Science teams to design technical courses and assessments? Aid the senior ...',\n",
       " 'TCG Digital is looking for Data Science Statistical Analysis and Implementation candida...',\n",
       " 'Pre Placement Offer .PPO',\n",
       " 'Experience in cloud technologies, specifically AWS (RDS, S3, Glue, Redshift etc) MSc / ...',\n",
       " 'Role: Data Science Consultant Function: Applied Intelligence Accenture Strategy , Consu...',\n",
       " 'Combining unmatched experience and specialized skills across more than 40 industries, w...',\n",
       " 'Must have strong capabilities in problem solving, managing own work diligently, thoroug...',\n",
       " 'The RoleFinance & Data Operations Data Science Team is tasked with delivering tangible ...',\n",
       " 'Very good Knowledge of Python Good knowledge of SQLGood knowledge of Linux Scripting Go...',\n",
       " 'Collects and analyzes data required for projects including web scrapping and external v...',\n",
       " 'You will be required to utilize the existing frameworks, standards, patterns to create ...',\n",
       " 'Certified Data Analyst from reputed institute Making sure all the documents required fo...',\n",
       " 'Bachelor of Engineering Good understanding of the technology and domain Analytical abil...',\n",
       " 'Will act as a business problem solver, bu ild large-scale batch and data pipelines by e...',\n",
       " 'Build ability to research and make decisions based on the day-to-day and complex custom...',\n",
       " 'Proficient with Statistical modeling and understanding of association miningProficient ...',\n",
       " 'Professional Attributes : - Should Have good communication skills- Should be able to wo...',\n",
       " 'Project Role : Application Developer Project Role Description : Design, build and confi...']"
      ]
     },
     "execution_count": 104,
     "metadata": {},
     "output_type": "execute_result"
    }
   ],
   "source": [
    "try:\n",
    "    skill=driver.find_elements_by_xpath(\"//div[@class='job-description fs12 grey-text']\")\n",
    "    for i in skill:\n",
    "        Skill.append(i.text)\n",
    "except:\n",
    "    Skill.append(\"--\")\n",
    "Skill"
   ]
  },
  {
   "cell_type": "code",
   "execution_count": 105,
   "id": "2ba0dd96",
   "metadata": {},
   "outputs": [
    {
     "name": "stdout",
     "output_type": "stream",
     "text": [
      "20\n",
      "20\n",
      "20\n",
      "20\n"
     ]
    }
   ],
   "source": [
    "Name7=print(len(Name7))\n",
    "Desig=print(len(Desig))\n",
    "Skill=print(len(Skill))\n",
    "Loc=print(len(Loc))"
   ]
  },
  {
   "cell_type": "code",
   "execution_count": 109,
   "id": "9666fe3b",
   "metadata": {},
   "outputs": [
    {
     "data": {
      "text/html": [
       "<div>\n",
       "<style scoped>\n",
       "    .dataframe tbody tr th:only-of-type {\n",
       "        vertical-align: middle;\n",
       "    }\n",
       "\n",
       "    .dataframe tbody tr th {\n",
       "        vertical-align: top;\n",
       "    }\n",
       "\n",
       "    .dataframe thead th {\n",
       "        text-align: right;\n",
       "    }\n",
       "</style>\n",
       "<table border=\"1\" class=\"dataframe\">\n",
       "  <thead>\n",
       "    <tr style=\"text-align: right;\">\n",
       "      <th></th>\n",
       "      <th>Company</th>\n",
       "      <th>Designation</th>\n",
       "      <th>Location</th>\n",
       "      <th>Skill</th>\n",
       "    </tr>\n",
       "  </thead>\n",
       "  <tbody>\n",
       "    <tr>\n",
       "      <th>0</th>\n",
       "      <td>None</td>\n",
       "      <td>None</td>\n",
       "      <td>None</td>\n",
       "      <td>None</td>\n",
       "    </tr>\n",
       "  </tbody>\n",
       "</table>\n",
       "</div>"
      ],
      "text/plain": [
       "  Company Designation Location Skill\n",
       "0    None        None     None  None"
      ]
     },
     "execution_count": 109,
     "metadata": {},
     "output_type": "execute_result"
    }
   ],
   "source": [
    "df = pd.DataFrame([{'Company':Name7,'Designation':Desig,'Location':Loc,'Skill':Skill}])\n",
    "df"
   ]
  },
  {
   "cell_type": "markdown",
   "id": "83e06b9c",
   "metadata": {},
   "source": [
    "8. Scrape the details of Highest selling novels.\n",
    "Url = https://www.theguardian.com/news/datablog/2012/aug/09/best-selling-books-all-time-fifty-shades-grey\u0002compare/\n",
    "You have to find the following details:\n",
    "A) Book name\n",
    "B) Author name\n",
    "C) Volumes sold\n",
    "D) Publisher\n",
    "E) Genre"
   ]
  },
  {
   "cell_type": "code",
   "execution_count": 105,
   "id": "3494433a",
   "metadata": {},
   "outputs": [],
   "source": [
    "import selenium\n",
    "import pandas as pd\n",
    "import time\n",
    "from selenium import webdriver\n",
    "from selenium.common.exceptions import StaleElementReferenceException, NoSuchElementException\n",
    "driver= webdriver.Chrome(r\"C:/Users/admin/Downloads/chromedriver_win32/chromedriver.exe\")"
   ]
  },
  {
   "cell_type": "code",
   "execution_count": 336,
   "id": "dd6ef571",
   "metadata": {},
   "outputs": [],
   "source": [
    "url= \"https://www.theguardian.com/news/datablog/2012/aug/09/best-selling-books-all-time-fifty-shades-grey-compare/\"\n",
    "driver.get(url)"
   ]
  },
  {
   "cell_type": "code",
   "execution_count": 427,
   "id": "13c91d95",
   "metadata": {},
   "outputs": [],
   "source": [
    "Book=[]\n",
    "Author=[]\n",
    "Volumes_sold=[]\n",
    "Publisher=[]\n",
    "Genre=[]"
   ]
  },
  {
   "cell_type": "code",
   "execution_count": 428,
   "id": "961a1449",
   "metadata": {},
   "outputs": [
    {
     "data": {
      "text/plain": [
       "['Da Vinci Code,The',\n",
       " 'Harry Potter and the Deathly Hallows',\n",
       " \"Harry Potter and the Philosopher's Stone\",\n",
       " 'Harry Potter and the Order of the Phoenix']"
      ]
     },
     "execution_count": 428,
     "metadata": {},
     "output_type": "execute_result"
    }
   ],
   "source": [
    "try:\n",
    "    book=driver.find_elements_by_xpath('//*[@id=\"table-cell-10943-0-1\"]')\n",
    "    for i in book:\n",
    "        Book.append(i.text)\n",
    "except:\n",
    "    Book.append(\"--\")\n",
    "try:\n",
    "    book=driver.find_elements_by_xpath('//*[@id=\"table-cell-10943-1-1\"]')\n",
    "    for i in book:\n",
    "        Book.append(i.text)\n",
    "except:\n",
    "    Book.append(\"--\")\n",
    "try:\n",
    "    book=driver.find_elements_by_xpath('//*[@id=\"table-cell-10943-2-1\"]')\n",
    "    for i in book:\n",
    "        Book.append(i.text)\n",
    "except:\n",
    "    Book.append(\"--\")\n",
    "try:\n",
    "    book=driver.find_elements_by_xpath('//*[@id=\"table-cell-10943-3-1\"]')\n",
    "    for i in book:\n",
    "        Book.append(i.text)\n",
    "except:\n",
    "    Book.append(\"--\")\n",
    "Book"
   ]
  },
  {
   "cell_type": "code",
   "execution_count": 429,
   "id": "a7485e5a",
   "metadata": {},
   "outputs": [
    {
     "data": {
      "text/plain": [
       "['Brown, Dan', 'Rowling, J.K.', 'Rowling, J.K.', 'Rowling, J.K.']"
      ]
     },
     "execution_count": 429,
     "metadata": {},
     "output_type": "execute_result"
    }
   ],
   "source": [
    "try:\n",
    "    author=driver.find_elements_by_xpath('//*[@id=\"table-cell-10943-0-2\"]')\n",
    "    for i in author:\n",
    "        Author.append(i.text)\n",
    "except:\n",
    "    Author.append(\"--\")\n",
    "try:\n",
    "    author=driver.find_elements_by_xpath('//*[@id=\"table-cell-10943-1-2\"]')\n",
    "    for i in author:\n",
    "        Author.append(i.text)\n",
    "except:\n",
    "    Author.append(\"--\")\n",
    "try:\n",
    "    author=driver.find_elements_by_xpath('//*[@id=\"table-cell-10943-2-2\"]')\n",
    "    for i in author:\n",
    "        Author.append(i.text)\n",
    "except:\n",
    "    Author.append(\"--\")\n",
    "try:\n",
    "    author=driver.find_elements_by_xpath('//*[@id=\"table-cell-10943-3-2\"]')\n",
    "    for i in author:\n",
    "        Author.append(i.text)\n",
    "except:\n",
    "    Author.append(\"--\")\n",
    "Author"
   ]
  },
  {
   "cell_type": "code",
   "execution_count": 430,
   "id": "e743ceee",
   "metadata": {},
   "outputs": [
    {
     "data": {
      "text/plain": [
       "['5,094,805', '4,475,152', '4,200,654', '4,179,479']"
      ]
     },
     "execution_count": 430,
     "metadata": {},
     "output_type": "execute_result"
    }
   ],
   "source": [
    "try:\n",
    "    volume=driver.find_elements_by_xpath('//*[@id=\"table-cell-10943-0-3\"]')\n",
    "    for i in volume:\n",
    "        Volumes_sold.append(i.text)\n",
    "except:\n",
    "    Volumes_sold.append(\"--\")\n",
    "try:\n",
    "    volume=driver.find_elements_by_xpath('//*[@id=\"table-cell-10943-1-3\"]')\n",
    "    for i in volume:\n",
    "        Volumes_sold.append(i.text)\n",
    "except:\n",
    "    Volumes_sold.append(\"--\")\n",
    "try:\n",
    "    volume=driver.find_elements_by_xpath('//*[@id=\"table-cell-10943-2-3\"]')\n",
    "    for i in volume:\n",
    "        Volumes_sold.append(i.text)\n",
    "except:\n",
    "    Volumes_sold.append(\"--\")\n",
    "try:\n",
    "    volume=driver.find_elements_by_xpath('//*[@id=\"table-cell-10943-3-3\"]')\n",
    "    for i in volume:\n",
    "        Volumes_sold.append(i.text)\n",
    "except:\n",
    "    Volumes_sold.append(\"--\")\n",
    "Volumes_sold"
   ]
  },
  {
   "cell_type": "code",
   "execution_count": 431,
   "id": "54828640",
   "metadata": {},
   "outputs": [
    {
     "data": {
      "text/plain": [
       "['Transworld', 'Bloomsbury', 'Bloomsbury', 'Bloomsbury']"
      ]
     },
     "execution_count": 431,
     "metadata": {},
     "output_type": "execute_result"
    }
   ],
   "source": [
    "try:\n",
    "    publisher=driver.find_elements_by_xpath('//*[@id=\"table-cell-10943-0-4\"]')\n",
    "    for i in publisher:\n",
    "        Publisher.append(i.text)\n",
    "except:\n",
    "    Publisher.append(\"--\")\n",
    "try:\n",
    "    publisher=driver.find_elements_by_xpath('//*[@id=\"table-cell-10943-1-4\"]')\n",
    "    for i in publisher:\n",
    "        Publisher.append(i.text)\n",
    "except:\n",
    "    Publisher.append(\"--\")\n",
    "try:\n",
    "    publisher=driver.find_elements_by_xpath('//*[@id=\"table-cell-10943-2-4\"]')\n",
    "    for i in publisher:\n",
    "        Publisher.append(i.text)\n",
    "except:\n",
    "    Publisher.append(\"--\")\n",
    "try:\n",
    "    publisher=driver.find_elements_by_xpath('//*[@id=\"table-cell-10943-3-4\"]')\n",
    "    for i in publisher:\n",
    "        Publisher.append(i.text)\n",
    "except:\n",
    "    Publisher.append(\"--\")\n",
    "Publisher"
   ]
  },
  {
   "cell_type": "code",
   "execution_count": 432,
   "id": "7ea5de5c",
   "metadata": {},
   "outputs": [
    {
     "data": {
      "text/plain": [
       "['Crime, Thriller & Adventure',\n",
       " \"Children's Fiction\",\n",
       " \"Children's Fiction\",\n",
       " \"Children's Fiction\"]"
      ]
     },
     "execution_count": 432,
     "metadata": {},
     "output_type": "execute_result"
    }
   ],
   "source": [
    "try:\n",
    "    genre=driver.find_elements_by_xpath('//*[@id=\"table-cell-10943-0-5\"]')\n",
    "    for i in genre:\n",
    "        Genre.append(i.text)\n",
    "except:\n",
    "    Genre.append(\"--\")\n",
    "try:\n",
    "    genre=driver.find_elements_by_xpath('//*[@id=\"table-cell-10943-1-5\"]')\n",
    "    for i in genre:\n",
    "        Genre.append(i.text)\n",
    "except:\n",
    "    Genre.append(\"--\")\n",
    "try:\n",
    "    genre=driver.find_elements_by_xpath('//*[@id=\"table-cell-10943-2-5\"]')\n",
    "    for i in genre:\n",
    "        Genre.append(i.text)\n",
    "except:\n",
    "    Genre.append(\"--\")\n",
    "try:\n",
    "    genre=driver.find_elements_by_xpath('//*[@id=\"table-cell-10943-3-5\"]')\n",
    "    for i in genre:\n",
    "        Genre.append(i.text)\n",
    "except:\n",
    "    Genre.append(\"--\")\n",
    "\n",
    "Genre"
   ]
  },
  {
   "cell_type": "code",
   "execution_count": 434,
   "id": "c741c10f",
   "metadata": {},
   "outputs": [
    {
     "data": {
      "text/html": [
       "<div>\n",
       "<style scoped>\n",
       "    .dataframe tbody tr th:only-of-type {\n",
       "        vertical-align: middle;\n",
       "    }\n",
       "\n",
       "    .dataframe tbody tr th {\n",
       "        vertical-align: top;\n",
       "    }\n",
       "\n",
       "    .dataframe thead th {\n",
       "        text-align: right;\n",
       "    }\n",
       "</style>\n",
       "<table border=\"1\" class=\"dataframe\">\n",
       "  <thead>\n",
       "    <tr style=\"text-align: right;\">\n",
       "      <th></th>\n",
       "      <th>Book</th>\n",
       "      <th>Author</th>\n",
       "      <th>Volume_sold</th>\n",
       "      <th>Genre</th>\n",
       "    </tr>\n",
       "  </thead>\n",
       "  <tbody>\n",
       "    <tr>\n",
       "      <th>0</th>\n",
       "      <td>Da Vinci Code,The</td>\n",
       "      <td>Brown, Dan</td>\n",
       "      <td>5,094,805</td>\n",
       "      <td>Crime, Thriller &amp; Adventure</td>\n",
       "    </tr>\n",
       "    <tr>\n",
       "      <th>1</th>\n",
       "      <td>Harry Potter and the Deathly Hallows</td>\n",
       "      <td>Rowling, J.K.</td>\n",
       "      <td>4,475,152</td>\n",
       "      <td>Children's Fiction</td>\n",
       "    </tr>\n",
       "    <tr>\n",
       "      <th>2</th>\n",
       "      <td>Harry Potter and the Philosopher's Stone</td>\n",
       "      <td>Rowling, J.K.</td>\n",
       "      <td>4,200,654</td>\n",
       "      <td>Children's Fiction</td>\n",
       "    </tr>\n",
       "    <tr>\n",
       "      <th>3</th>\n",
       "      <td>Harry Potter and the Order of the Phoenix</td>\n",
       "      <td>Rowling, J.K.</td>\n",
       "      <td>4,179,479</td>\n",
       "      <td>Children's Fiction</td>\n",
       "    </tr>\n",
       "  </tbody>\n",
       "</table>\n",
       "</div>"
      ],
      "text/plain": [
       "                                        Book         Author Volume_sold  \\\n",
       "0                          Da Vinci Code,The     Brown, Dan   5,094,805   \n",
       "1       Harry Potter and the Deathly Hallows  Rowling, J.K.   4,475,152   \n",
       "2   Harry Potter and the Philosopher's Stone  Rowling, J.K.   4,200,654   \n",
       "3  Harry Potter and the Order of the Phoenix  Rowling, J.K.   4,179,479   \n",
       "\n",
       "                         Genre  \n",
       "0  Crime, Thriller & Adventure  \n",
       "1           Children's Fiction  \n",
       "2           Children's Fiction  \n",
       "3           Children's Fiction  "
      ]
     },
     "execution_count": 434,
     "metadata": {},
     "output_type": "execute_result"
    }
   ],
   "source": [
    "Books=pd.DataFrame({'Book':Book,'Author':Author, 'Volume_sold':Volumes_sold,'Genre':Genre})\n",
    "Books\n",
    "\n",
    "                    "
   ]
  },
  {
   "cell_type": "markdown",
   "id": "ac26f4c0",
   "metadata": {},
   "source": [
    "9. Scrape the details most watched tv series of all time from imdb.com.\n",
    "Url = https://www.imdb.com/list/ls095964455/\n",
    "You have to find the following details:\n",
    "A) Name\n",
    "B) Year span\n",
    "C) Genre\n",
    "D) Run time\n",
    "E) Ratings\n",
    "F) Votes\n"
   ]
  },
  {
   "cell_type": "code",
   "execution_count": 55,
   "id": "a2a3fd43",
   "metadata": {},
   "outputs": [],
   "source": [
    "import selenium\n",
    "import pandas as pd\n",
    "import time\n",
    "from selenium import webdriver\n",
    "from selenium.common.exceptions import StaleElementReferenceException, NoSuchElementException"
   ]
  },
  {
   "cell_type": "code",
   "execution_count": 56,
   "id": "48311cc0",
   "metadata": {},
   "outputs": [],
   "source": [
    "driver= webdriver.Chrome(r\"C:/Users/admin/Downloads/chromedriver_win32/chromedriver.exe\")"
   ]
  },
  {
   "cell_type": "code",
   "execution_count": 435,
   "id": "cac92d35",
   "metadata": {},
   "outputs": [],
   "source": [
    "url= \" https://www.imdb.com/list/ls095964455/\"\n",
    "driver.get(url)"
   ]
  },
  {
   "cell_type": "code",
   "execution_count": 436,
   "id": "1efff865",
   "metadata": {},
   "outputs": [],
   "source": [
    "Name9=[]\n",
    "year_span=[]\n",
    "Genre=[]\n",
    "Run_time=[]\n",
    "Rating=[]\n",
    "Votes=[]"
   ]
  },
  {
   "cell_type": "code",
   "execution_count": 437,
   "id": "bc8d6646",
   "metadata": {},
   "outputs": [],
   "source": [
    "try:\n",
    "    Name=driver.find_elements_by_xpath(\"//h3[@class='lister-item-header']\")\n",
    "    for i in Name:\n",
    "        Name9.append(i.text)\n",
    "except:\n",
    "    Name9.append(\"--\")"
   ]
  },
  {
   "cell_type": "code",
   "execution_count": 438,
   "id": "e13d8bf1",
   "metadata": {},
   "outputs": [],
   "source": [
    "try:\n",
    "    year=driver.find_elements_by_xpath(\"//span[@class='lister-item-year text-muted unbold']\")\n",
    "    for i in year:\n",
    "        year_span.append(i.text) \n",
    "except NoSuchElementException:\n",
    "    if i.text is None :\n",
    "        year_span.append(\"- -\")"
   ]
  },
  {
   "cell_type": "code",
   "execution_count": 439,
   "id": "06f71764",
   "metadata": {},
   "outputs": [],
   "source": [
    "try:\n",
    "    genre=driver.find_elements_by_xpath(\"//span[@class='genre']\")\n",
    "    for i in genre:\n",
    "        Genre.append(i.text) \n",
    "except NoSuchElementException:\n",
    "    if i.text is None :\n",
    "        Genre.append(\"- -\")"
   ]
  },
  {
   "cell_type": "code",
   "execution_count": 440,
   "id": "84ca9b2e",
   "metadata": {},
   "outputs": [],
   "source": [
    "try:\n",
    "    run=driver.find_elements_by_xpath(\"//span[@class='runtime']\")\n",
    "    for i in run:\n",
    "        Run_time.append(i.text) \n",
    "except NoSuchElementException:\n",
    "    if i.text is None :\n",
    "        Run_time.append(\"- -\")"
   ]
  },
  {
   "cell_type": "code",
   "execution_count": 441,
   "id": "f04658b1",
   "metadata": {},
   "outputs": [],
   "source": [
    "try:\n",
    "    rate=driver.find_elements_by_xpath(\"//div[@class='ipl-rating-star small']\")\n",
    "    for i in rate:\n",
    "        Rating.append(i.text)\n",
    "except:\n",
    "    Rating.append(\"--\")"
   ]
  },
  {
   "cell_type": "code",
   "execution_count": 442,
   "id": "bc377c25",
   "metadata": {},
   "outputs": [],
   "source": [
    "try:\n",
    "    vote=driver.find_elements_by_xpath(\"//span[@name='nv']\")\n",
    "    for i in vote:\n",
    "        Votes.append(i.text) \n",
    "except NoSuchElementException:\n",
    "    if i.text is None :\n",
    "        Votes.append(\"- -\")"
   ]
  },
  {
   "cell_type": "code",
   "execution_count": 443,
   "id": "201ab3fc",
   "metadata": {},
   "outputs": [
    {
     "name": "stdout",
     "output_type": "stream",
     "text": [
      "100\n",
      "100\n",
      "100\n",
      "100\n",
      "100\n",
      "100\n"
     ]
    }
   ],
   "source": [
    "Name9=print(len(Name9))\n",
    "year_span=print(len(year_span))\n",
    "Genre=print(len(Genre))\n",
    "Run_time=print(len(Run_time))\n",
    "Rating=print(len(Rating))\n",
    "Votes=print(len(Votes))"
   ]
  },
  {
   "cell_type": "code",
   "execution_count": 446,
   "id": "5c815f54",
   "metadata": {},
   "outputs": [],
   "source": [
    "\n",
    "##ValueError: If using all scalar values, you must pass an index\n",
    "#unable to solve this error"
   ]
  },
  {
   "cell_type": "markdown",
   "id": "00d293b1",
   "metadata": {},
   "source": [
    "10. Details of Datasets from UCI machine learning repositories.\n",
    "Url = https://archive.ics.uci.edu/\n",
    "You have to find the following details:\n",
    "A) Dataset name\n",
    "B) Data type\n",
    "C) Task\n",
    "D) Attribute type\n",
    "E) No of instances\n",
    "F) No of attribute\n",
    "G) Year\n",
    "Note: - from the home page you have to go to the ShowAllDataset page through code"
   ]
  },
  {
   "cell_type": "code",
   "execution_count": 23,
   "id": "815fd37f",
   "metadata": {},
   "outputs": [],
   "source": [
    "import selenium\n",
    "import pandas as pd\n",
    "import time"
   ]
  },
  {
   "cell_type": "code",
   "execution_count": 24,
   "id": "2bd3e754",
   "metadata": {},
   "outputs": [],
   "source": [
    "from selenium import webdriver"
   ]
  },
  {
   "cell_type": "code",
   "execution_count": 25,
   "id": "0508396d",
   "metadata": {},
   "outputs": [],
   "source": [
    "from selenium.common.exceptions import StaleElementReferenceException, NoSuchElementException"
   ]
  },
  {
   "cell_type": "code",
   "execution_count": 26,
   "id": "30b321b5",
   "metadata": {},
   "outputs": [],
   "source": [
    "driver= webdriver.Chrome(r\"C:/Users/admin/Downloads/chromedriver_win32/chromedriver.exe\")"
   ]
  },
  {
   "cell_type": "code",
   "execution_count": 447,
   "id": "40cefc71",
   "metadata": {},
   "outputs": [],
   "source": [
    "url= \"https://archive.ics.uci.edu/\"\n",
    "driver.get(url)"
   ]
  },
  {
   "cell_type": "code",
   "execution_count": 448,
   "id": "6fa88aac",
   "metadata": {},
   "outputs": [],
   "source": [
    "try:\n",
    "    click10 = driver.find_element_by_xpath(\"//a[@href='datasets.php']\")    \n",
    "    click10.click()\n",
    "except NoSuchElementException:\n",
    "    print(\"Exception Occured. Moving to next page\")"
   ]
  },
  {
   "cell_type": "code",
   "execution_count": 453,
   "id": "f47fc55b",
   "metadata": {},
   "outputs": [],
   "source": [
    "Name=[]\n",
    "type_=[]\n",
    "task=[]\n",
    "attribute_t=[]\n",
    "no_of_inst=[]\n",
    "atrribute=[]\n",
    "year=[]"
   ]
  },
  {
   "cell_type": "code",
   "execution_count": 468,
   "id": "a5fe126b",
   "metadata": {},
   "outputs": [],
   "source": [
    "try:\n",
    "    name=driver.find_elements_by_xpath('/html/body/table[2]/tbody/tr/td[2]/table[2]/tbody/tr/td[1]/table/tbody/tr/td[2]/p/b/a')\n",
    "    for i in name:\n",
    "        Name.append(i.text) \n",
    "except NoSuchElementException:\n",
    "    if i.text is None :\n",
    "        Name.append(\"- -\")\n",
    "Name.insert(0, 'Name')"
   ]
  },
  {
   "cell_type": "code",
   "execution_count": 469,
   "id": "a820ea87",
   "metadata": {},
   "outputs": [
    {
     "data": {
      "text/plain": [
       "['Name', '  Abalone', 'Adult', 'Abalone', 'Adult']"
      ]
     },
     "execution_count": 469,
     "metadata": {},
     "output_type": "execute_result"
    }
   ],
   "source": [
    "Name[0:5]"
   ]
  },
  {
   "cell_type": "code",
   "execution_count": 459,
   "id": "c68f7935",
   "metadata": {},
   "outputs": [
    {
     "data": {
      "text/plain": [
       "['Data Types', 'Multivariate ', 'Multivariate ', 'Multivariate ', ' ']"
      ]
     },
     "execution_count": 459,
     "metadata": {},
     "output_type": "execute_result"
    }
   ],
   "source": [
    "try:\n",
    "    typ=driver.find_elements_by_xpath('/html/body/table[2]/tbody/tr/td[2]/table[2]/tbody/tr/td[2]/p')\n",
    "    for i in typ:\n",
    "        type_.append(i.text) \n",
    "except NoSuchElementException:\n",
    "    if i.text is None :\n",
    "        type_.append(\"- -\")\n",
    "type_[0:5]"
   ]
  },
  {
   "cell_type": "code",
   "execution_count": 460,
   "id": "0f858e3e",
   "metadata": {},
   "outputs": [
    {
     "data": {
      "text/plain": [
       "['Default Task',\n",
       " 'Classification ',\n",
       " 'Classification ',\n",
       " 'Classification ',\n",
       " 'Recommender-Systems ']"
      ]
     },
     "execution_count": 460,
     "metadata": {},
     "output_type": "execute_result"
    }
   ],
   "source": [
    "try:\n",
    "    tsk=driver.find_elements_by_xpath('/html/body/table[2]/tbody/tr/td[2]/table[2]/tbody/tr/td[3]/p')\n",
    "    for i in tsk:\n",
    "        task.append(i.text) \n",
    "except NoSuchElementException:\n",
    "    if i.text is None :\n",
    "        task.append(\"- -\")\n",
    "task[0:5]"
   ]
  },
  {
   "cell_type": "code",
   "execution_count": 461,
   "id": "57cb8102",
   "metadata": {},
   "outputs": [
    {
     "data": {
      "text/plain": [
       "['Attribute Types',\n",
       " 'Categorical, Integer, Real ',\n",
       " 'Categorical, Integer ',\n",
       " 'Categorical, Integer, Real ',\n",
       " 'Categorical ']"
      ]
     },
     "execution_count": 461,
     "metadata": {},
     "output_type": "execute_result"
    }
   ],
   "source": [
    "try:\n",
    "    att=driver.find_elements_by_xpath('/html/body/table[2]/tbody/tr/td[2]/table[2]/tbody/tr/td[4]/p')\n",
    "    for i in att:\n",
    "        attribute_t.append(i.text) \n",
    "except NoSuchElementException:\n",
    "    if i.text is None :\n",
    "        attribute_t.append(\"- -\")\n",
    "attribute_t[0:5]"
   ]
  },
  {
   "cell_type": "code",
   "execution_count": 462,
   "id": "91d2de1d",
   "metadata": {},
   "outputs": [
    {
     "data": {
      "text/plain": [
       "['# Instances', '4177 ', '48842 ', '798 ', '37711 ']"
      ]
     },
     "execution_count": 462,
     "metadata": {},
     "output_type": "execute_result"
    }
   ],
   "source": [
    "try:\n",
    "    inst=driver.find_elements_by_xpath('/html/body/table[2]/tbody/tr/td[2]/table[2]/tbody/tr/td[5]/p')\n",
    "    for i in inst:\n",
    "        no_of_inst.append(i.text) \n",
    "except NoSuchElementException:\n",
    "    if i.text is None :\n",
    "        no_of_inst.append(\"- -\")\n",
    "no_of_inst[0:5]"
   ]
  },
  {
   "cell_type": "code",
   "execution_count": 465,
   "id": "2aed3dbb",
   "metadata": {},
   "outputs": [
    {
     "data": {
      "text/plain": [
       "['# Attributes', '8 ', '14 ', '38 ', '294 ']"
      ]
     },
     "execution_count": 465,
     "metadata": {},
     "output_type": "execute_result"
    }
   ],
   "source": [
    "try:\n",
    "    att=driver.find_elements_by_xpath('/html/body/table[2]/tbody/tr/td[2]/table[2]/tbody/tr/td[6]/p')\n",
    "    for i in att:\n",
    "        atrribute.append(i.text) \n",
    "except NoSuchElementException:\n",
    "    if i.text is None :\n",
    "        atrribute.append(\"- -\")\n",
    "atrribute[0:5]"
   ]
  },
  {
   "cell_type": "code",
   "execution_count": 467,
   "id": "a96a1e79",
   "metadata": {},
   "outputs": [
    {
     "data": {
      "text/plain": [
       "['Year', '1995 ', '1996 ', ' ', '1998 ']"
      ]
     },
     "execution_count": 467,
     "metadata": {},
     "output_type": "execute_result"
    }
   ],
   "source": [
    "try:\n",
    "    Year=driver.find_elements_by_xpath('/html/body/table[2]/tbody/tr/td[2]/table[2]/tbody/tr/td[7]/p')\n",
    "    for i in Year:\n",
    "        year.append(i.text) \n",
    "except NoSuchElementException:\n",
    "    if i.text is None :\n",
    "        year.append(\"- -\")\n",
    "year[0:5]"
   ]
  },
  {
   "cell_type": "code",
   "execution_count": 470,
   "id": "a216c3a1",
   "metadata": {},
   "outputs": [
    {
     "name": "stdout",
     "output_type": "stream",
     "text": [
      "1869 1246 623 623 623 623 623\n"
     ]
    }
   ],
   "source": [
    "print(len(Name),\n",
    "len(type_),\n",
    "len(task),\n",
    "len(attribute_t),\n",
    "len(no_of_inst),\n",
    "len(atrribute),\n",
    "len(year))"
   ]
  },
  {
   "cell_type": "code",
   "execution_count": 473,
   "id": "387efdf5",
   "metadata": {},
   "outputs": [
    {
     "data": {
      "text/html": [
       "<div>\n",
       "<style scoped>\n",
       "    .dataframe tbody tr th:only-of-type {\n",
       "        vertical-align: middle;\n",
       "    }\n",
       "\n",
       "    .dataframe tbody tr th {\n",
       "        vertical-align: top;\n",
       "    }\n",
       "\n",
       "    .dataframe thead th {\n",
       "        text-align: right;\n",
       "    }\n",
       "</style>\n",
       "<table border=\"1\" class=\"dataframe\">\n",
       "  <thead>\n",
       "    <tr style=\"text-align: right;\">\n",
       "      <th></th>\n",
       "      <th>Name</th>\n",
       "      <th>Type</th>\n",
       "      <th>Task</th>\n",
       "      <th>Attribute</th>\n",
       "      <th>NOI</th>\n",
       "      <th>attri</th>\n",
       "      <th>year</th>\n",
       "    </tr>\n",
       "  </thead>\n",
       "  <tbody>\n",
       "    <tr>\n",
       "      <th>0</th>\n",
       "      <td>Name</td>\n",
       "      <td>Data Types</td>\n",
       "      <td>Default Task</td>\n",
       "      <td>Attribute Types</td>\n",
       "      <td># Instances</td>\n",
       "      <td># Attributes</td>\n",
       "      <td>Year</td>\n",
       "    </tr>\n",
       "    <tr>\n",
       "      <th>1</th>\n",
       "      <td>Abalone</td>\n",
       "      <td>Multivariate</td>\n",
       "      <td>Classification</td>\n",
       "      <td>Categorical, Integer, Real</td>\n",
       "      <td>4177</td>\n",
       "      <td>8</td>\n",
       "      <td>1995</td>\n",
       "    </tr>\n",
       "    <tr>\n",
       "      <th>2</th>\n",
       "      <td>Adult</td>\n",
       "      <td>Multivariate</td>\n",
       "      <td>Classification</td>\n",
       "      <td>Categorical, Integer</td>\n",
       "      <td>48842</td>\n",
       "      <td>14</td>\n",
       "      <td>1996</td>\n",
       "    </tr>\n",
       "    <tr>\n",
       "      <th>3</th>\n",
       "      <td>Abalone</td>\n",
       "      <td>Multivariate</td>\n",
       "      <td>Classification</td>\n",
       "      <td>Categorical, Integer, Real</td>\n",
       "      <td>798</td>\n",
       "      <td>38</td>\n",
       "      <td></td>\n",
       "    </tr>\n",
       "    <tr>\n",
       "      <th>4</th>\n",
       "      <td>Adult</td>\n",
       "      <td></td>\n",
       "      <td>Recommender-Systems</td>\n",
       "      <td>Categorical</td>\n",
       "      <td>37711</td>\n",
       "      <td>294</td>\n",
       "      <td>1998</td>\n",
       "    </tr>\n",
       "    <tr>\n",
       "      <th>...</th>\n",
       "      <td>...</td>\n",
       "      <td>...</td>\n",
       "      <td>...</td>\n",
       "      <td>...</td>\n",
       "      <td>...</td>\n",
       "      <td>...</td>\n",
       "      <td>...</td>\n",
       "    </tr>\n",
       "    <tr>\n",
       "      <th>95</th>\n",
       "      <td>SPECT Heart</td>\n",
       "      <td>Multivariate</td>\n",
       "      <td>Clustering</td>\n",
       "      <td>Categorical, Integer</td>\n",
       "      <td>76</td>\n",
       "      <td>45</td>\n",
       "      <td></td>\n",
       "    </tr>\n",
       "    <tr>\n",
       "      <th>96</th>\n",
       "      <td>SPECTF Heart</td>\n",
       "      <td></td>\n",
       "      <td></td>\n",
       "      <td></td>\n",
       "      <td></td>\n",
       "      <td></td>\n",
       "      <td>1992</td>\n",
       "    </tr>\n",
       "    <tr>\n",
       "      <th>97</th>\n",
       "      <td>Sponge</td>\n",
       "      <td>Domain-Theory</td>\n",
       "      <td></td>\n",
       "      <td></td>\n",
       "      <td>1000</td>\n",
       "      <td></td>\n",
       "      <td>1993</td>\n",
       "    </tr>\n",
       "    <tr>\n",
       "      <th>98</th>\n",
       "      <td>Statlog Project</td>\n",
       "      <td>Multivariate</td>\n",
       "      <td>Classification</td>\n",
       "      <td>Categorical, Integer</td>\n",
       "      <td>151</td>\n",
       "      <td>5</td>\n",
       "      <td>1997</td>\n",
       "    </tr>\n",
       "    <tr>\n",
       "      <th>99</th>\n",
       "      <td>Student Loan Relational</td>\n",
       "      <td>Multivariate</td>\n",
       "      <td>Classification</td>\n",
       "      <td>Categorical</td>\n",
       "      <td>958</td>\n",
       "      <td>9</td>\n",
       "      <td>1991</td>\n",
       "    </tr>\n",
       "  </tbody>\n",
       "</table>\n",
       "<p>100 rows × 7 columns</p>\n",
       "</div>"
      ],
      "text/plain": [
       "                       Name            Type                  Task  \\\n",
       "0                      Name      Data Types          Default Task   \n",
       "1                   Abalone   Multivariate        Classification    \n",
       "2                     Adult   Multivariate        Classification    \n",
       "3                   Abalone   Multivariate        Classification    \n",
       "4                     Adult                  Recommender-Systems    \n",
       "..                      ...             ...                   ...   \n",
       "95              SPECT Heart   Multivariate            Clustering    \n",
       "96             SPECTF Heart                                         \n",
       "97                   Sponge  Domain-Theory                          \n",
       "98          Statlog Project   Multivariate        Classification    \n",
       "99  Student Loan Relational   Multivariate        Classification    \n",
       "\n",
       "                      Attribute          NOI         attri   year  \n",
       "0               Attribute Types  # Instances  # Attributes   Year  \n",
       "1   Categorical, Integer, Real         4177             8   1995   \n",
       "2         Categorical, Integer        48842            14   1996   \n",
       "3   Categorical, Integer, Real          798            38          \n",
       "4                  Categorical        37711           294   1998   \n",
       "..                          ...          ...           ...    ...  \n",
       "95        Categorical, Integer           76            45          \n",
       "96                                                          1992   \n",
       "97                                     1000                 1993   \n",
       "98        Categorical, Integer          151             5   1997   \n",
       "99                 Categorical          958             9   1991   \n",
       "\n",
       "[100 rows x 7 columns]"
      ]
     },
     "execution_count": 473,
     "metadata": {},
     "output_type": "execute_result"
    }
   ],
   "source": [
    "ML=pd.DataFrame({'Name':Name[0:100],'Type':type_[0:100],'Task':task[0:100],'Attribute':attribute_t[0:100],'NOI':no_of_inst[0:100], 'attri':atrribute[0:100],'year':year[0:100]})\n",
    "ML"
   ]
  },
  {
   "cell_type": "code",
   "execution_count": null,
   "id": "8437f293",
   "metadata": {},
   "outputs": [],
   "source": []
  }
 ],
 "metadata": {
  "kernelspec": {
   "display_name": "Python 3",
   "language": "python",
   "name": "python3"
  },
  "language_info": {
   "codemirror_mode": {
    "name": "ipython",
    "version": 3
   },
   "file_extension": ".py",
   "mimetype": "text/x-python",
   "name": "python",
   "nbconvert_exporter": "python",
   "pygments_lexer": "ipython3",
   "version": "3.8.8"
  }
 },
 "nbformat": 4,
 "nbformat_minor": 5
}
